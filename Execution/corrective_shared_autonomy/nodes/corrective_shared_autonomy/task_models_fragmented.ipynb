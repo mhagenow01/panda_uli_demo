{
 "cells": [
  {
   "cell_type": "code",
   "execution_count": 1,
   "id": "adapted-thread",
   "metadata": {},
   "outputs": [],
   "source": [
    "##############################################\n",
    "# Manually construct behaviors               #\n",
    "##############################################\n",
    "\n",
    "# Packages\n",
    "import pickle\n",
    "import numpy as np\n",
    "import time\n",
    "import rospy\n",
    "import rospkg\n",
    "from corrective_shared_autonomy.TaskModels.DMPLWRhardcoded import HybridSegment\n",
    "from corrective_shared_autonomy.TaskModels.DMPLWRhardcoded import DMPLWRhardcoded\n",
    "from corrective_shared_autonomy.TaskModels.FragmentedExecution import interpMultD\n",
    "from core_robotics.dataviz import threedplot, highlightedthreedplot\n",
    "from core_robotics.PyBSpline import BSplineSurface\n",
    "from scipy.spatial.transform import Rotation as ScipyR\n",
    "from scipy.spatial.transform import Slerp\n",
    "\n",
    "rospy.init_node('subdivisiontester', anonymous=True)"
   ]
  },
  {
   "cell_type": "code",
   "execution_count": 2,
   "id": "abroad-season",
   "metadata": {},
   "outputs": [],
   "source": [
    "###################################################\n",
    "# Red Overhead bin: IRC_piece1 ####################\n",
    "###################################################\n",
    "\n",
    "rospack = rospkg.RosPack()\n",
    "uliconfigpath = rospack.get_path('uli_config')\n",
    "config_dir = rospack.get_path('uli_config')+'/registration_models/'\n",
    "\n",
    "outfile  = config_dir + 'IRC_piece1_frag.pkl'\n",
    "\n",
    "ang_relative_to_surface = 90 # degrees\n",
    "R_tool_surf = ScipyR.from_euler('zx',[ang_relative_to_surface,0],degrees=True)\n",
    "theta_q = R_tool_surf.as_quat()\n",
    "state_names = ['u','v','f','theta_qx','theta_qy','theta_qz','theta_qw']\n",
    "starting = [[0.1, 0.1], [0.3, 0.1], [0.5, 0.1], [0.7, 0.1], [0.9, 0.1]]\n",
    "ending = [[0.1, 0.9], [0.3, 0.9], [0.5, 0.9], [0.7, 0.9], [0.9, 0.9]]\n",
    "samps = [120,120,120,120,120]\n",
    "samps_per_sec = 20\n",
    "\n",
    "state_vals = []\n",
    "for ii in range(0,len(starting)):\n",
    "    start_temp = np.array([starting[ii][0],starting[ii][1],-10.0,theta_q[0],theta_q[1],theta_q[2],theta_q[3]])\n",
    "    end_temp = np.array([ending[ii][0],ending[ii][1],-10.0,theta_q[0],theta_q[1],theta_q[2],theta_q[3]])\n",
    "    state_vals.append(interpMultD(start_temp,end_temp,samps[ii]))\n",
    "    \n",
    "corrections = np.array([0, 0, 0, 0, 0, 0, 1])\n",
    "\n",
    "pickle.dump((state_names,state_vals,corrections),open(outfile,\"wb\"), protocol=2)"
   ]
  },
  {
   "cell_type": "code",
   "execution_count": null,
   "id": "double-blackjack",
   "metadata": {},
   "outputs": [],
   "source": []
  }
 ],
 "metadata": {
  "kernelspec": {
   "display_name": "Python 3",
   "language": "python",
   "name": "python3"
  },
  "language_info": {
   "codemirror_mode": {
    "name": "ipython",
    "version": 3
   },
   "file_extension": ".py",
   "mimetype": "text/x-python",
   "name": "python",
   "nbconvert_exporter": "python",
   "pygments_lexer": "ipython3",
   "version": "3.8.10"
  }
 },
 "nbformat": 4,
 "nbformat_minor": 5
}
