{
 "cells": [
  {
   "cell_type": "code",
   "execution_count": 1,
   "id": "partial-dining",
   "metadata": {},
   "outputs": [
    {
     "name": "stdout",
     "output_type": "stream",
     "text": [
      "4800\n",
      "time:  0.016915559768676758\n",
      "(10000,)\n"
     ]
    },
    {
     "data": {
      "image/png": "[encoded data removed]",
      "text/plain": [
       "<Figure size 432x288 with 1 Axes>"
      ]
     },
     "metadata": {
      "needs_background": "light"
     },
     "output_type": "display_data"
    }
   ],
   "source": [
    "# Author: mike hagenow\n",
    "# Test a variety of performance improvements to see if we can speed up learning for online use\n",
    "\n",
    "import time\n",
    "import numpy as np\n",
    "import matplotlib.pyplot as plt\n",
    "from corrective_shared_autonomy.TaskModels.DMPLWRhardcoded import DMP\n",
    "\n",
    "k = 50\n",
    "b = 2.0*np.sqrt(k)\n",
    "dt = 0.01\n",
    "\n",
    "dmp = DMP(k,b,dt)\n",
    "\n",
    "samps_per_sec = 40\n",
    "total_t = 2*60*samps_per_sec\n",
    "data_comp = 1.0\n",
    "total_t = int(total_t*data_comp)\n",
    "print(total_t)\n",
    "\n",
    "total_t = 10000\n",
    "\n",
    "# data is a list of equal length arrays\n",
    "data = []\n",
    "t = np.linspace(0,4*np.pi,total_t)\n",
    "in_data = np.cos(t)\n",
    "data.append(in_data)\n",
    "\n",
    "startt = time.time()\n",
    "start,end,forcing = dmp.getForcing(data)\n",
    "print(\"time: \",time.time()-startt)\n",
    "x_out = dmp.getPath(start,end,forcing)\n",
    "print(np.shape(forcing))\n",
    "\n",
    "plt.plot(in_data,color='blue')\n",
    "plt.plot(x_out,color='green')\n",
    "plt.show()\n"
   ]
  },
  {
   "cell_type": "code",
   "execution_count": 2,
   "id": "ethical-interpretation",
   "metadata": {},
   "outputs": [
    {
     "name": "stdout",
     "output_type": "stream",
     "text": [
      "(1, 10)\n"
     ]
    },
    {
     "ename": "ValueError",
     "evalue": "slice step cannot be zero",
     "output_type": "error",
     "traceback": [
      "\u001b[0;31m---------------------------------------------------------------------------\u001b[0m",
      "\u001b[0;31mValueError\u001b[0m                                Traceback (most recent call last)",
      "\u001b[0;32m<ipython-input-2-063fdab05d69>\u001b[0m in \u001b[0;36m<module>\u001b[0;34m\u001b[0m\n\u001b[1;32m     19\u001b[0m \u001b[0;34m\u001b[0m\u001b[0m\n\u001b[1;32m     20\u001b[0m     \u001b[0mstartt\u001b[0m \u001b[0;34m=\u001b[0m \u001b[0mtime\u001b[0m\u001b[0;34m.\u001b[0m\u001b[0mtime\u001b[0m\u001b[0;34m(\u001b[0m\u001b[0;34m)\u001b[0m\u001b[0;34m\u001b[0m\u001b[0;34m\u001b[0m\u001b[0m\n\u001b[0;32m---> 21\u001b[0;31m     \u001b[0mstart\u001b[0m\u001b[0;34m,\u001b[0m\u001b[0mend\u001b[0m\u001b[0;34m,\u001b[0m\u001b[0mforcing\u001b[0m \u001b[0;34m=\u001b[0m \u001b[0mdmp\u001b[0m\u001b[0;34m.\u001b[0m\u001b[0mgetForcing\u001b[0m\u001b[0;34m(\u001b[0m\u001b[0mdata\u001b[0m\u001b[0;34m)\u001b[0m\u001b[0;34m\u001b[0m\u001b[0;34m\u001b[0m\u001b[0m\n\u001b[0m\u001b[1;32m     22\u001b[0m     \u001b[0mtempt\u001b[0m \u001b[0;34m=\u001b[0m \u001b[0mtime\u001b[0m\u001b[0;34m.\u001b[0m\u001b[0mtime\u001b[0m\u001b[0;34m(\u001b[0m\u001b[0;34m)\u001b[0m\u001b[0;34m-\u001b[0m\u001b[0mstartt\u001b[0m\u001b[0;34m\u001b[0m\u001b[0;34m\u001b[0m\u001b[0m\n\u001b[1;32m     23\u001b[0m     \u001b[0mts\u001b[0m\u001b[0;34m.\u001b[0m\u001b[0mappend\u001b[0m\u001b[0;34m(\u001b[0m\u001b[0mtempt\u001b[0m\u001b[0;34m)\u001b[0m\u001b[0;34m\u001b[0m\u001b[0;34m\u001b[0m\u001b[0m\n",
      "\u001b[0;32m~/Documents/demo/src/panda_uli_demo/Execution/corrective_shared_autonomy/nodes/corrective_shared_autonomy/TaskModels/DMPLWRhardcoded.py\u001b[0m in \u001b[0;36mgetForcing\u001b[0;34m(self, data)\u001b[0m\n\u001b[1;32m     92\u001b[0m         \u001b[0mdata_new\u001b[0m \u001b[0;34m=\u001b[0m \u001b[0;34m[\u001b[0m\u001b[0;34m]\u001b[0m\u001b[0;34m\u001b[0m\u001b[0;34m\u001b[0m\u001b[0m\n\u001b[1;32m     93\u001b[0m         \u001b[0;32mfor\u001b[0m \u001b[0mii\u001b[0m \u001b[0;32min\u001b[0m \u001b[0mrange\u001b[0m\u001b[0;34m(\u001b[0m\u001b[0mlen\u001b[0m\u001b[0;34m(\u001b[0m\u001b[0mdata\u001b[0m\u001b[0;34m)\u001b[0m\u001b[0;34m)\u001b[0m\u001b[0;34m:\u001b[0m\u001b[0;34m\u001b[0m\u001b[0;34m\u001b[0m\u001b[0m\n\u001b[0;32m---> 94\u001b[0;31m             \u001b[0mdata_new\u001b[0m\u001b[0;34m.\u001b[0m\u001b[0mappend\u001b[0m\u001b[0;34m(\u001b[0m\u001b[0mdata\u001b[0m\u001b[0;34m[\u001b[0m\u001b[0mii\u001b[0m\u001b[0;34m]\u001b[0m\u001b[0;34m[\u001b[0m\u001b[0;34m:\u001b[0m\u001b[0;34m:\u001b[0m\u001b[0mds_factor\u001b[0m\u001b[0;34m]\u001b[0m\u001b[0;34m)\u001b[0m\u001b[0;34m\u001b[0m\u001b[0;34m\u001b[0m\u001b[0m\n\u001b[0m\u001b[1;32m     95\u001b[0m         \u001b[0mdata\u001b[0m \u001b[0;34m=\u001b[0m \u001b[0mdata_new\u001b[0m\u001b[0;34m\u001b[0m\u001b[0;34m\u001b[0m\u001b[0m\n\u001b[1;32m     96\u001b[0m         \u001b[0mnum_samples\u001b[0m \u001b[0;34m=\u001b[0m \u001b[0mlen\u001b[0m\u001b[0;34m(\u001b[0m\u001b[0mdata\u001b[0m\u001b[0;34m[\u001b[0m\u001b[0;36m0\u001b[0m\u001b[0;34m]\u001b[0m\u001b[0;34m)\u001b[0m\u001b[0;34m\u001b[0m\u001b[0;34m\u001b[0m\u001b[0m\n",
      "\u001b[0;31mValueError\u001b[0m: slice step cannot be zero"
     ]
    }
   ],
   "source": [
    "# Time scaling analysis\n",
    "k = 50\n",
    "b = 2.0*np.sqrt(k)\n",
    "dt = 0.01\n",
    "\n",
    "dmp = DMP(k,b,dt)\n",
    "\n",
    "\n",
    "ts = []\n",
    "for ii in np.linspace(10,2*60*40,20):\n",
    "    jj = int(ii)\n",
    "    \n",
    "    \n",
    "    # data is a list of equal length arrays\n",
    "    data = []\n",
    "    t = np.linspace(0,4*np.pi,jj)\n",
    "    in_data = np.sin(2.0*t)\n",
    "    data.append(in_data)\n",
    "\n",
    "    startt = time.time()\n",
    "    start,end,forcing = dmp.getForcing(data)\n",
    "    tempt = time.time()-startt\n",
    "    ts.append(tempt)\n",
    "    print(jj,tempt)\n",
    "    x_out = dmp.getPath(start,end,forcing)\n",
    "    \n",
    "plt.plot(np.linspace(10,2*60*40,20),ts)\n",
    "plt.show()\n",
    "    "
   ]
  },
  {
   "cell_type": "code",
   "execution_count": null,
   "id": "concrete-eugene",
   "metadata": {},
   "outputs": [],
   "source": []
  }
 ],
 "metadata": {
  "kernelspec": {
   "display_name": "Python 3",
   "language": "python",
   "name": "python3"
  },
  "language_info": {
   "codemirror_mode": {
    "name": "ipython",
    "version": 3
   },
   "file_extension": ".py",
   "mimetype": "text/x-python",
   "name": "python",
   "nbconvert_exporter": "python",
   "pygments_lexer": "ipython3",
   "version": "3.8.10"
  }
 },
 "nbformat": 4,
 "nbformat_minor": 5
}
