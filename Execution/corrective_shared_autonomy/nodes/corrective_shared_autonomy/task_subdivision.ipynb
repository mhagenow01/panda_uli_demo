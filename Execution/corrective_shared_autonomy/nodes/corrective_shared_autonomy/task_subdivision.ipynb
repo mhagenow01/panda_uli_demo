{
 "cells": [
  {
   "cell_type": "code",
   "execution_count": 3,
   "id": "adapted-thread",
   "metadata": {},
   "outputs": [
    {
     "name": "stdout",
     "output_type": "stream",
     "text": [
      "Importing the dtw module. When using in academic works please cite:\n",
      "  T. Giorgino. Computing and Visualizing Dynamic Time Warping Alignments in R: The dtw Package.\n",
      "  J. Stat. Soft., doi:10.18637/jss.v031.i07.\n",
      "\n"
     ]
    }
   ],
   "source": [
    "##############################################\n",
    "# Task subdivision based on reachability     #\n",
    "##############################################\n",
    "\n",
    "# Packages\n",
    "import numpy as np\n",
    "import rospy\n",
    "import rospkg\n",
    "from corrective_shared_autonomy.TaskModels.DMPLWRhardcoded import HybridSegment\n",
    "from corrective_shared_autonomy.TaskModels.DMPLWRhardcoded import DMPLWRhardcoded\n",
    "from core_robotics.PyBSpline import BSplineSurface\n",
    "from scipy.spatial.transform import Rotation as ScipyR\n",
    "from scipy.spatial.transform import Slerp"
   ]
  },
  {
   "cell_type": "code",
   "execution_count": 4,
   "id": "gorgeous-dairy",
   "metadata": {},
   "outputs": [],
   "source": [
    "##############################################\n",
    "# Helper Functions                           #\n",
    "##############################################\n",
    "\n",
    "\n",
    "# starting vals is a list of starting vals\n",
    "# ending vals is a list of ending vals\n",
    "# num_pts is how many interp values\n",
    "# quat_vars is the index of any starts of quaternions so they can be SLERPed instead of LERPed\n",
    "# super_pos_vars is the starting index for 2-pairs of variables which should have an added sine wave (e.g., rubbing)\n",
    "# super_pos_freq is the frequency for the starting index pairs\n",
    "# super_pos_amp is the amplitude for the starting index pairs\n",
    "def interpMultD(starting_vals,ending_vals,num_pts,quat_vars=[], super_pos_vars = [], super_pos_freq=[], super_pos_amp = []):\n",
    "    vals = []\n",
    "    \n",
    "    # LERP ALL VARIABLES\n",
    "    for ii in range(0,num_pts):\n",
    "       \n",
    "        # super is to potentially add a circular motion on top of the LERP motion\n",
    "        freq_super = 0.0\n",
    "        amp_super = 0.0\n",
    "        added_sine = np.zeros((np.shape(starting_vals)))\n",
    "        for jj in range(0,len(super_pos_vars)):\n",
    "            amp = super_pos_amp[jj]\n",
    "            freq = super_pos_freq[jj]\n",
    "            added_sine[super_pos_vars[jj]] = np.sin(np.pi*float(ii)/num_pts)*amp*np.sin(freq*float(ii)/2*np.pi)\n",
    "            added_sine[super_pos_vars[jj]+1] = np.sin(np.pi*float(ii)/num_pts)*amp*np.cos(freq*float(ii)/2*np.pi)\n",
    "        c_i = float(ii)/float(num_pts) # interpolation coefficient\n",
    "        vals.append(list(c_i*(e-s)+s+a for s,e,a in zip(starting_vals,ending_vals,added_sine)))\n",
    "    \n",
    "    vals = np.asarray(vals) # currently,num_samples x num_vars\n",
    "    \n",
    "    # SLERP QUATERIONS\n",
    "    for jj in range(0,len(quat_vars)):\n",
    "        starting_q = np.array(starting_vals[quat_vars[jj]:quat_vars[jj]+4])\n",
    "        ending_q = np.array(ending_vals[quat_vars[jj]:quat_vars[jj]+4])\n",
    "        key_times = [0,num_pts-1]\n",
    "        key_rots = ScipyR.from_quat(np.concatenate((starting_q.reshape((1,4)),ending_q.reshape((1,4))),axis=0))\n",
    "        slerper = Slerp(key_times, key_rots)\n",
    "        \n",
    "        pts = list(range(0,num_pts))\n",
    "        slerped = slerper(pts)\n",
    "        vals[:,quat_vars[jj]:quat_vars[jj]+4] = np.asarray(slerped.as_quat())\n",
    "    \n",
    "    return vals.T # num vars x num_samples\n"
   ]
  },
  {
   "cell_type": "code",
   "execution_count": 13,
   "id": "measured-edward",
   "metadata": {},
   "outputs": [
    {
     "name": "stdout",
     "output_type": "stream",
     "text": [
      "[array([[ 0.5209272 ,  0.58551702,  0.65423084,  0.72890654,  0.81241956],\n",
      "       [ 0.23676384,  0.23338339,  0.22861369,  0.22423746,  0.21902298],\n",
      "       [ 0.10398773,  0.13165702,  0.15861858,  0.18358378,  0.19105203],\n",
      "       [-0.012     , -0.004     , -0.002     ,  0.005     ,  0.012     ],\n",
      "       [-0.219     ,  0.188     ,  0.182     , -0.113     ,  0.036     ],\n",
      "       [-0.001     ,  0.045     ,  0.033     , -0.023     , -0.019     ],\n",
      "       [ 0.976     , -0.981     , -0.983     ,  0.993     ,  0.999     ]]), array([[ 0.51652611,  0.58464979,  0.65046391,  0.72450303,  0.80910639],\n",
      "       [ 0.18498958,  0.18007993,  0.17501205,  0.16988867,  0.1638408 ],\n",
      "       [ 0.10250383,  0.13170084,  0.15748503,  0.18240393,  0.19015167],\n",
      "       [-0.008     , -0.009     , -0.001     , -0.006     , -0.011     ],\n",
      "       [-0.215     ,  0.193     ,  0.183     ,  0.112     , -0.036     ],\n",
      "       [-0.003     ,  0.045     ,  0.031     ,  0.046     ,  0.041     ],\n",
      "       [ 0.976     , -0.98      , -0.983     , -0.993     , -0.998     ]])]\n"
     ]
    }
   ],
   "source": [
    "##############################################\n",
    "# Create data for testing                    #\n",
    "##############################################\n",
    "rospack = rospkg.RosPack()\n",
    "uliconfigpath = rospack.get_path('uli_config')\n",
    "\n",
    "\n",
    "t_surf = np.array([0.43070987363200586, -0.013269419259123479, 0.06385816493811966])\n",
    "R_surf = np.array([0.008339958880240922, 0.004026424369577458, -0.029073916288389654, 0.9995343617826891])\n",
    "R_scisurf = ScipyR.from_quat(R_surf)\n",
    "surf_file = uliconfigpath + '/registration_models/IRC_piece1.csv'\n",
    "\n",
    "ang_relative_to_surface = 90 # degrees\n",
    "R_tool_surf = ScipyR.from_euler('zx',[ang_relative_to_surface,0],degrees=True)\n",
    "\n",
    "\n",
    "surf = BSplineSurface()\n",
    "surf.loadSurface(surf_file)\n",
    "\n",
    "\n",
    "starting = [[0.1, 0.1], [0.3, 0.1]]\n",
    "ending = [[0.1, 0.9], [0.3, 0.9]]\n",
    "samps = [5,5]\n",
    "\n",
    "trajectories = []\n",
    "\n",
    "for ii in range(0,len(starting)):\n",
    "    temp_vars = interpMultD(starting[ii],ending[ii],samps[ii])\n",
    "    data_temp = np.zeros((7,samps[ii]))\n",
    "    \n",
    "    for jj in range(0,np.shape(temp_vars)[1]):\n",
    "        # get surface coordinates\n",
    "        r, n_hat, r_u_norm, r_v_norm = surf.calculate_surface_point(temp_vars[0,jj],temp_vars[1,jj])\n",
    "        \n",
    "        R_surf = ScipyR.from_matrix(np.hstack([r_u_norm.reshape((3,1)), r_v_norm.reshape((3,1)), n_hat.reshape((3,1))]))\n",
    "\n",
    "        # apply surface transform\n",
    "        q_new = np.round((R_scisurf * R_surf * R_tool_surf).as_quat(),3)\n",
    "        r_new = R_scisurf.apply(r) + t_surf\n",
    "        \n",
    "        data_temp[0:3,jj] = r_new\n",
    "        data_temp[3:,jj] = q_new\n",
    "    \n",
    "    trajectories.append(data_temp)\n",
    "\n",
    "    \n",
    "print(trajectories)"
   ]
  },
  {
   "cell_type": "code",
   "execution_count": 14,
   "id": "altered-completion",
   "metadata": {},
   "outputs": [],
   "source": [
    "##############################################\n",
    "# Run Splitting algorithm                    #\n",
    "##############################################\n",
    "\n",
    "# input to algorithm is a list of 7xsamps trajectories and a urdf\n",
    "urdf_file = ''\n",
    "\n",
    "# TODO: include the reachability stuff\n",
    "# TODO: create a mask of not done, excluded, done\n",
    "\n",
    "###############################################\n",
    "# Step 1: cull based on reachability          #\n",
    "###############################################"
   ]
  },
  {
   "cell_type": "code",
   "execution_count": null,
   "id": "067ebbb2",
   "metadata": {},
   "outputs": [],
   "source": []
  }
 ],
 "metadata": {
  "kernelspec": {
   "display_name": "Python 3 (ipykernel)",
   "language": "python",
   "name": "python3"
  },
  "language_info": {
   "codemirror_mode": {
    "name": "ipython",
    "version": 3
   },
   "file_extension": ".py",
   "mimetype": "text/x-python",
   "name": "python",
   "nbconvert_exporter": "python",
   "pygments_lexer": "ipython3",
   "version": "3.8.10"
  }
 },
 "nbformat": 4,
 "nbformat_minor": 5
}
