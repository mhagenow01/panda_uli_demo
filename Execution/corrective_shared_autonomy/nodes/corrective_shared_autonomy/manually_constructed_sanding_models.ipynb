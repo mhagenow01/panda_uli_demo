{
 "cells": [
  {
   "cell_type": "code",
   "execution_count": 1,
   "id": "nasty-canada",
   "metadata": {},
   "outputs": [],
   "source": [
    "# Author: Mike Hagenow\n",
    "# Generate some templated behaviors for sanding (including corrections) to be learned through DMP-LWR\n",
    "\n",
    "import numpy as np\n",
    "import rospy\n",
    "\n",
    "from corrective_shared_autonomy.TaskModels.DMPLWRhardcoded import HybridSegment\n",
    "from corrective_shared_autonomy.TaskModels.DMPLWRhardcoded import DMPLWRhardcoded\n",
    "from core_robotics.PyBSpline import BSplineSurface\n",
    "\n",
    "# starting vals is a list of starting vals\n",
    "# ending vals is a list of ending vals\n",
    "# num_pts is how many interp values\n",
    "def interpMultD(starting_vals,ending_vals,num_pts):\n",
    "    vals = []\n",
    "    for ii in range(0,num_pts):\n",
    "        c_i = float(ii)/float(num_pts) # interpolation coefficient\n",
    "        vals.append(list(c_i*(e-s)+s for s,e in zip(starting_vals,ending_vals)))\n",
    "    return np.asarray(vals).T\n",
    "\n",
    "# returns num_vars x num_samples\n",
    "\n",
    "\n"
   ]
  },
  {
   "cell_type": "code",
   "execution_count": 6,
   "id": "technical-nancy",
   "metadata": {},
   "outputs": [
    {
     "name": "stdout",
     "output_type": "stream",
     "text": [
      "[[0.4     0.40125 0.4025  ... 0.89625 0.8975  0.89875]\n",
      " [0.5     0.5     0.5     ... 0.5     0.5     0.5    ]\n",
      " [5.      5.      5.      ... 5.      5.      5.     ]\n",
      " ...\n",
      " [0.      0.      0.      ... 0.      0.      0.     ]\n",
      " [0.      0.      0.      ... 0.      0.      0.     ]\n",
      " [1.      1.      1.      ... 1.      1.      1.     ]]\n"
     ]
    }
   ],
   "source": [
    "# Behavior one: Three passes on the layup2 surface (for testing without running sanding tool)\n",
    "\n",
    "surfaceBSplineFile = '/home/mike/Documents/panda_uli_workspace/src/panda_uli_demo/ULIConfig/registration_models/layup_tool2_surface_demo.csv'\n",
    "surfaceBSpline = BSplineSurface()\n",
    "surfaceBSpline.loadSurface(surfaceBSplineFile)\n",
    "\n",
    "segments = []\n",
    "\n",
    "# Part 1: approach the starting point\n",
    "segment = HybridSegment()\n",
    "segment.hybrid = False\n",
    "segment.num_samples = 200 # 2 seconds\n",
    "segment.state_names = ['x','y','z','qx','qy','qz','qw']\n",
    "\n",
    "approach_pt, _, _, _ = surfaceBSpline.calculate_surface_point(0.4, 0.5)\n",
    "\n",
    "starting = [approach_pt[0], approach_pt[1], approach_pt[2] + 0.05, 0.0, 0.0, 0.0, 1.0]\n",
    "ending = [approach_pt[0], approach_pt[1], approach_pt[2], 0.0, 0.0, 0.0, 1.0]\n",
    "orig_vals = interpMultD(starting,ending,segment.num_samples)\n",
    "\n",
    "# number of state variables by number of samples\n",
    "\n",
    "segment.original_vals = []\n",
    "segment.original_vals.append(orig_vals)\n",
    "\n",
    "segments.append(segment)\n",
    "\n",
    "\n",
    "# Part 2: one pass over surface (for now)\n",
    "segment = HybridSegment()\n",
    "segment.hybrid = True\n",
    "segment.surface = '/home/mike/Documents/panda_uli_workspace/src/panda_uli_demo/ULIConfig/registration_models/layup_tool2_surface_demo.csv'\n",
    "segment.num_samples = 400 # 4 seconds\n",
    "segment.state_names = ['u','v','f','theta_qx','theta_qy','theta_qz','theta_qw']\n",
    "segment.original_vals = []\n",
    "\n",
    "waypoint_0 = interpMultD([0.4, 0.5, 5.0, 0.0, 0.0, 0.0, 1.0],[0.9, 0.5, 5.0, 0.0, 0.0, 0.0, 1.0],segment.num_samples)\n",
    "print(waypoint_0)\n",
    "\n",
    "segment.original_vals.append(waypoint_0)\n",
    "\n",
    "segments.append(segment)\n",
    "\n",
    "\n",
    "# # Part 3: move away from the surface\n",
    "segment = HybridSegment()\n",
    "segment.hybrid = False\n",
    "segment.num_samples = 200 # 2 seconds\n",
    "segment.state_names = ['x','y','z','qx','qy','qz','qw']\n",
    "segment.original_vals = []\n",
    "\n",
    "retract_pt, _, _, _ = surfaceBSpline.calculate_surface_point(0.9, 0.5)\n",
    "\n",
    "starting = [retract_pt[0], retract_pt[1], retract_pt[2], 0.0, 0.0, 0.0, 1.0]\n",
    "ending = [retract_pt[0], retract_pt[1], retract_pt[2] + 0.05, 0.0, 0.0, 0.0, 1.0]\n",
    "orig_vals = interpMultD(starting,ending,200)\n",
    "segment.original_vals.append(orig_vals)\n",
    "\n",
    "segments.append(segment)\n",
    "\n",
    "\n",
    "\n",
    "\n",
    "\n"
   ]
  },
  {
   "cell_type": "code",
   "execution_count": 7,
   "id": "outstanding-reflection",
   "metadata": {},
   "outputs": [
    {
     "name": "stdout",
     "output_type": "stream",
     "text": [
      "-------------------\n",
      "Model Learning: DMP + LWR Hardcoded\n",
      "-------------------\n",
      "DMP for segment  0  of  2\n",
      "DMP for segment  1  of  2\n",
      "DMP for segment  2  of  2\n",
      "Time to learn model: 10.057498693466187 seconds\n"
     ]
    }
   ],
   "source": [
    "############################\n",
    "# Learn model              #\n",
    "############################\n",
    "model = DMPLWRhardcoded(verbose=True)\n",
    "learnedSegments = model.learnModel(segments,'') # second argument is the outfile\n"
   ]
  },
  {
   "cell_type": "code",
   "execution_count": null,
   "id": "indonesian-rating",
   "metadata": {},
   "outputs": [],
   "source": []
  }
 ],
 "metadata": {
  "kernelspec": {
   "display_name": "Python 3",
   "language": "python",
   "name": "python3"
  },
  "language_info": {
   "codemirror_mode": {
    "name": "ipython",
    "version": 3
   },
   "file_extension": ".py",
   "mimetype": "text/x-python",
   "name": "python",
   "nbconvert_exporter": "python",
   "pygments_lexer": "ipython3",
   "version": "3.8.10"
  }
 },
 "nbformat": 4,
 "nbformat_minor": 5
}
