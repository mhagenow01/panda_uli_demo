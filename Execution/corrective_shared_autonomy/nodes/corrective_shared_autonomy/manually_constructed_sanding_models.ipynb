{
 "cells": [
  {
   "cell_type": "code",
   "execution_count": 1,
   "id": "brown-orange",
   "metadata": {},
   "outputs": [
    {
     "name": "stdout",
     "output_type": "stream",
     "text": [
      "Importing the dtw module. When using in academic works please cite:\n",
      "  T. Giorgino. Computing and Visualizing Dynamic Time Warping Alignments in R: The dtw Package.\n",
      "  J. Stat. Soft., doi:10.18637/jss.v031.i07.\n",
      "\n"
     ]
    }
   ],
   "source": [
    "# Author: Mike Hagenow\n",
    "# Generate some templated behaviors for sanding (including corrections) to be learned through DMP-LWR\n",
    "\n",
    "import numpy as np\n",
    "import rospy\n",
    "\n",
    "from corrective_shared_autonomy.TaskModels.DMPLWRhardcoded import HybridSegment\n",
    "from corrective_shared_autonomy.TaskModels.DMPLWRhardcoded import DMPLWRhardcoded\n",
    "from core_robotics.PyBSpline import BSplineSurface\n",
    "\n",
    "# starting vals is a list of starting vals\n",
    "# ending vals is a list of ending vals\n",
    "# num_pts is how many interp values\n",
    "def interpMultD(starting_vals,ending_vals,num_pts):\n",
    "    vals = []\n",
    "    for ii in range(0,num_pts):\n",
    "        c_i = float(ii)/float(num_pts) # interpolation coefficient\n",
    "        vals.append(list(c_i*(e-s)+s for s,e in zip(starting_vals,ending_vals)))\n",
    "    return np.asarray(vals).T\n",
    "\n",
    "# returns num_vars x num_samples\n",
    "\n",
    "\n"
   ]
  },
  {
   "cell_type": "code",
   "execution_count": 2,
   "id": "outstanding-genius",
   "metadata": {},
   "outputs": [],
   "source": [
    "# Behavior one: Two passes around stringer (for testing without running sanding tool)\n",
    "\n",
    "surfaceBSplineFile = '/home/mike/Documents/panda_uli_workspace/src/panda_uli_demo/ULIConfig/registration_models/stringer_surface_demo.csv'\n",
    "surfaceBSpline = BSplineSurface()\n",
    "surfaceBSpline.loadSurface(surfaceBSplineFile)\n",
    "\n",
    "segments = []\n",
    "\n",
    "from scipy.spatial.transform import Rotation as ScipyR\n",
    "ang_relative_to_surface = 0 # degrees\n",
    "R_tool_surf = ScipyR.from_euler('y',ang_relative_to_surface,degrees=True)\n",
    "q_ts = R_tool_surf.as_quat()\n",
    "\n",
    "\n",
    "# Part 1: approach the starting point\n",
    "segment = HybridSegment()\n",
    "segment.hybrid = False\n",
    "segment.num_samples = 100 # 2 seconds\n",
    "segment.state_names = ['x','y','z','qx','qy','qz','qw']\n",
    "\n",
    "approach_pt, n_hat, r_u_norm, r_v_norm = surfaceBSpline.calculate_surface_point(0.1, 0.01)\n",
    "\n",
    "R_surf = ScipyR.from_matrix(np.hstack([r_u_norm.reshape((3,1)), r_v_norm.reshape((3,1)), n_hat.reshape((3,1))]))\n",
    "q_app = (R_surf * R_tool_surf).as_quat()\n",
    "\n",
    "approach_height = 0.1\n",
    "starting = [approach_pt[0]+n_hat[0]*approach_height, approach_pt[1]+n_hat[1]*approach_height, approach_pt[2] +n_hat[2]*approach_height, q_app[0], q_app[1], q_app[2], q_app[3]]\n",
    "ending = [approach_pt[0], approach_pt[1], approach_pt[2] + 0.0, q_app[0], q_app[1], q_app[2], q_app[3]]\n",
    "orig_vals = interpMultD(starting,ending,segment.num_samples)\n",
    "\n",
    "\n",
    "# number of state variables by number of samples\n",
    "\n",
    "segment.original_vals = []\n",
    "segment.original_vals.append(orig_vals)\n",
    "\n",
    "segments.append(segment)\n",
    "\n",
    "\n",
    "# Part 2: one pass over surface (for now)\n",
    "segment = HybridSegment()\n",
    "segment.hybrid = True\n",
    "segment.surface = surfaceBSpline\n",
    "segment.num_samples = 600 # 4 seconds\n",
    "segment.state_names = ['u','v','f','theta_qx','theta_qy','theta_qz','theta_qw']\n",
    "segment.original_vals = []\n",
    "\n",
    "\n",
    "samps = int(segment.num_samples / 3)\n",
    "waypoint_0 = interpMultD([0.1, 0.01, -5.0, q_ts[0], q_ts[1], q_ts[2], q_ts[3]],[0.9, 0.01, -5.0, q_ts[0], q_ts[1], q_ts[2], q_ts[3]],samps)\n",
    "waypoint_1 = interpMultD([0.9, 0.01, -5.0, q_ts[0], q_ts[1], q_ts[2], q_ts[3]],[0.9, 0.99, -5.0, q_ts[0], q_ts[1], q_ts[2], q_ts[3]],samps)\n",
    "waypoint_2 = interpMultD([0.9, 0.99, -5.0, q_ts[0], q_ts[1], q_ts[2], q_ts[3]],[0.01, 0.99, -5.0, q_ts[0], q_ts[1], q_ts[2], q_ts[3]],samps)\n",
    "\n",
    "waypoints = np.hstack([waypoint_0,waypoint_1,waypoint_2])\n",
    "\n",
    "segment.original_vals.append(waypoints)\n",
    "\n",
    "segments.append(segment)\n",
    "\n",
    "\n",
    "# # Part 3: move away from the surface\n",
    "segment = HybridSegment()\n",
    "segment.hybrid = False\n",
    "segment.num_samples = 100 # 2 seconds\n",
    "segment.state_names = ['x','y','z','qx','qy','qz','qw']\n",
    "segment.original_vals = []\n",
    "\n",
    "retract_pt, n_hat, r_u_norm, r_v_norm = surfaceBSpline.calculate_surface_point(0.01, 0.99)\n",
    "R_surf = ScipyR.from_matrix(np.hstack([r_u_norm.reshape((3,1)), r_v_norm.reshape((3,1)), n_hat.reshape((3,1))]))\n",
    "q_ret = (R_surf * R_tool_surf).as_quat()\n",
    "\n",
    "\n",
    "retract_height = 0.1\n",
    "surf_offset = 0.005\n",
    "starting = [retract_pt[0]+n_hat[0]*surf_offset, retract_pt[1]+n_hat[1]*surf_offset,retract_pt[2]+n_hat[2]*surf_offset, q_ret[0], q_ret[1], q_ret[2], q_ret[3]]\n",
    "ending = [retract_pt[0]+n_hat[0]*retract_height, retract_pt[1]+n_hat[1]*retract_height,retract_pt[2]+n_hat[2]*retract_height, q_ret[0], q_ret[1], q_ret[2], q_ret[3]]\n",
    "orig_vals = interpMultD(starting,ending,segment.num_samples)\n",
    "segment.original_vals.append(orig_vals)\n",
    "\n",
    "segments.append(segment)\n",
    "\n",
    "\n",
    "\n",
    "# from cProfile import Profile\n",
    "# from pstats import Stats\n",
    "\n",
    "# p = Profile()\n",
    "# p.enable()\n",
    "# <stuff>\n",
    "# p.disable()\n",
    "# Stats(p).sort_by('cumtime').print_stats()"
   ]
  },
  {
   "cell_type": "code",
   "execution_count": 3,
   "id": "experienced-winning",
   "metadata": {},
   "outputs": [
    {
     "name": "stdout",
     "output_type": "stream",
     "text": [
      "-------------------\n",
      "Model Learning: DMP + LWR Hardcoded\n",
      "-------------------\n",
      "DMP for segment  0  of  2\n",
      "DMP for segment  1  of  2\n",
      "DMP for segment  2  of  2\n",
      "Time to learn model: 3.2829768657684326 seconds\n"
     ]
    }
   ],
   "source": [
    "############################\n",
    "# Learn Stringer model     #\n",
    "############################\n",
    "import rospkg\n",
    "rospack = rospkg.RosPack()\n",
    "config_dir = rospack.get_path('corrective_shared_autonomy')+'/../../ULIConfig/registration_models/'\n",
    "\n",
    "\n",
    "model = DMPLWRhardcoded(verbose=True)\n",
    "learnedSegments = model.learnModel(segments,config_dir+'stringer_surface_demo.pkl') # second argument is the outfile\n"
   ]
  },
  {
   "cell_type": "code",
   "execution_count": 11,
   "id": "perfect-pocket",
   "metadata": {},
   "outputs": [
    {
     "name": "stdout",
     "output_type": "stream",
     "text": [
      "not hybrid\n",
      "hybrid\n",
      "not hybrid\n"
     ]
    }
   ],
   "source": [
    "############################\n",
    "# Execute stringer model   #\n",
    "############################\n",
    "\n",
    "rospy.init_node('executeROSfromState', anonymous=True)\n",
    "\n",
    "r_surf = np.array([-0.01552419880890722, 0.012337583487942934, 0.701729727486363, 0.7121672365722354])\n",
    "t_surf = np.array([0.7122307723105765, -0.19370274318077763, 0.10177554657913149])\n",
    "\n",
    "model.executeModel(learnedSegments=learnedSegments, R_surface = r_surf, t_surface = t_surf)"
   ]
  },
  {
   "cell_type": "code",
   "execution_count": 2,
   "id": "worse-warrior",
   "metadata": {},
   "outputs": [
    {
     "name": "stdout",
     "output_type": "stream",
     "text": [
      "QAPP:  [ 0.00243397 -0.1279647   0.00551956  0.99176038]\n"
     ]
    }
   ],
   "source": [
    "# Behavior two: Three passes on the layup2 surface (for testing without running sanding tool)\n",
    "\n",
    "surfaceBSplineFile = '/home/mike/Documents/panda_uli_workspace/src/panda_uli_demo/ULIConfig/registration_models/layup_tool2_surface_demo.csv'\n",
    "surfaceBSpline = BSplineSurface()\n",
    "surfaceBSpline.loadSurface(surfaceBSplineFile)\n",
    "\n",
    "segments = []\n",
    "\n",
    "from scipy.spatial.transform import Rotation as ScipyR\n",
    "ang_relative_to_surface = 10 # degrees\n",
    "R_tool_surf = ScipyR.from_euler('y',ang_relative_to_surface,degrees=True)\n",
    "q_ts = R_tool_surf.as_quat()\n",
    "\n",
    "\n",
    "\n",
    "# Part 1: approach the starting point\n",
    "segment = HybridSegment()\n",
    "segment.hybrid = False\n",
    "segment.num_samples = 100 # 2 seconds\n",
    "segment.state_names = ['x','y','z','qx','qy','qz','qw']\n",
    "\n",
    "approach_pt, n_hat, r_u_norm, r_v_norm = surfaceBSpline.calculate_surface_point(0.2, 0.2)\n",
    "R_surf = ScipyR.from_matrix(np.hstack([r_u_norm.reshape((3,1)), r_v_norm.reshape((3,1)), n_hat.reshape((3,1))]))\n",
    "q_app = (R_surf * R_tool_surf).as_quat()\n",
    "\n",
    "print(\"QAPP: \",q_app)\n",
    "\n",
    "starting = [approach_pt[0], approach_pt[1], approach_pt[2] + 0.05, 0.0, 0.0, 0.0, 1.0]\n",
    "ending = [approach_pt[0], approach_pt[1], approach_pt[2] + 0.0, q_app[0], q_app[1], q_app[2], q_app[3]]\n",
    "orig_vals = interpMultD(starting,ending,segment.num_samples)\n",
    "\n",
    "\n",
    "# number of state variables by number of samples\n",
    "\n",
    "segment.original_vals = []\n",
    "segment.original_vals.append(orig_vals)\n",
    "\n",
    "segments.append(segment)\n",
    "\n",
    "\n",
    "# Part 2: one pass over surface (for now)\n",
    "segment = HybridSegment()\n",
    "segment.hybrid = True\n",
    "segment.surface = surfaceBSpline\n",
    "segment.num_samples = 500 # 4 seconds\n",
    "segment.state_names = ['u','v','f','theta_qx','theta_qy','theta_qz','theta_qw']\n",
    "segment.original_vals = []\n",
    "\n",
    "\n",
    "samps = int(segment.num_samples / 5)\n",
    "waypoint_0 = interpMultD([0.2, 0.2, -5.0, q_ts[0], q_ts[1], q_ts[2], q_ts[3]],[0.8, 0.2, -5.0, q_ts[0], q_ts[1], q_ts[2], q_ts[3]],samps)\n",
    "waypoint_1 = interpMultD([0.8, 0.2, -5.0, q_ts[0], q_ts[1], q_ts[2], q_ts[3]],[0.8, 0.5, -5.0, q_ts[0], q_ts[1], q_ts[2], q_ts[3]],samps)\n",
    "waypoint_2 = interpMultD([0.8, 0.5, -5.0, q_ts[0], q_ts[1], q_ts[2], q_ts[3]],[0.2, 0.5, -5.0, q_ts[0], q_ts[1], q_ts[2], q_ts[3]],samps)\n",
    "waypoint_3 = interpMultD([0.2, 0.5, -5.0, q_ts[0], q_ts[1], q_ts[2], q_ts[3]],[0.2, 0.8, -5.0, q_ts[0], q_ts[1], q_ts[2], q_ts[3]],samps)\n",
    "waypoint_4 = interpMultD([0.2, 0.8, -5.0, q_ts[0], q_ts[1], q_ts[2], q_ts[3]],[0.8, 0.8, -5.0, q_ts[0], q_ts[1], q_ts[2], q_ts[3]],samps)\n",
    "\n",
    "waypoints = np.hstack([waypoint_0,waypoint_1,waypoint_2,waypoint_3,waypoint_4])\n",
    "\n",
    "segment.original_vals.append(waypoints)\n",
    "\n",
    "segments.append(segment)\n",
    "\n",
    "\n",
    "# # Part 3: move away from the surface\n",
    "segment = HybridSegment()\n",
    "segment.hybrid = False\n",
    "segment.num_samples = 100 # 2 seconds\n",
    "segment.state_names = ['x','y','z','qx','qy','qz','qw']\n",
    "segment.original_vals = []\n",
    "\n",
    "retract_pt, n_hat, r_u_norm, r_v_norm = surfaceBSpline.calculate_surface_point(0.8, 0.8)\n",
    "R_surf = ScipyR.from_matrix(np.hstack([r_u_norm.reshape((3,1)), r_v_norm.reshape((3,1)), n_hat.reshape((3,1))]))\n",
    "q_ret = (R_surf * R_tool_surf).as_quat()\n",
    "\n",
    "starting = [retract_pt[0], retract_pt[1], retract_pt[2]+ 0.005, q_ret[0], q_ret[1], q_ret[2], q_ret[3]]\n",
    "ending = [retract_pt[0], retract_pt[1], retract_pt[2] + 0.1, 0.0, 0.0, 0.0, 1.0]\n",
    "orig_vals = interpMultD(starting,ending,segment.num_samples)\n",
    "segment.original_vals.append(orig_vals)\n",
    "\n",
    "segments.append(segment)\n",
    "\n",
    "\n",
    "\n",
    "# from cProfile import Profile\n",
    "# from pstats import Stats\n",
    "\n",
    "# p = Profile()\n",
    "# p.enable()\n",
    "# <stuff>\n",
    "# p.disable()\n",
    "# Stats(p).sort_by('cumtime').print_stats()\n",
    "\n"
   ]
  },
  {
   "cell_type": "code",
   "execution_count": 3,
   "id": "scheduled-reynolds",
   "metadata": {},
   "outputs": [
    {
     "name": "stdout",
     "output_type": "stream",
     "text": [
      "-------------------\n",
      "Model Learning: DMP + LWR Hardcoded\n",
      "-------------------\n",
      "DMP for segment  0  of  2\n",
      "DMP for segment  1  of  2\n",
      "DMP for segment  2  of  2\n",
      "Time to learn model: 10.132977724075317 seconds\n"
     ]
    }
   ],
   "source": [
    "############################\n",
    "# Learn Layup2 model       #\n",
    "############################\n",
    "import rospkg\n",
    "rospack = rospkg.RosPack()\n",
    "config_dir = rospack.get_path('corrective_shared_autonomy')+'/../../ULIConfig/registration_models/'\n",
    "\n",
    "\n",
    "model = DMPLWRhardcoded(verbose=True)\n",
    "learnedSegments = model.learnModel(segments,config_dir+'layup_tool2_surface_demo.pkl') # second argument is the outfile\n"
   ]
  },
  {
   "cell_type": "code",
   "execution_count": 4,
   "id": "cubic-clear",
   "metadata": {},
   "outputs": [
    {
     "name": "stderr",
     "output_type": "stream",
     "text": [
      "[WARN] [1649115455.884446]: Could not process inbound connection: topic types do not match: [geometry_msgs/Twist] vs. [std_msgs/Float64MultiArray]{'callerid': '/ros_uli_wrapper', 'md5sum': '9f195f881246fdfa2798d1d3eebca84a', 'message_definition': '# This expresses velocity in free space broken into its linear and angular parts.\\nVector3  linear\\nVector3  angular\\n\\n================================================================================\\nMSG: geometry_msgs/Vector3\\n# This represents a vector in free space. \\n# It is only meant to represent a direction. Therefore, it does not\\n# make sense to apply a translation to it (e.g., when applying a \\n# generic rigid transformation to a Vector3, tf2 will only apply the\\n# rotation). If you want your data to be translatable too, use the\\n# geometry_msgs/Point message instead.\\n\\nfloat64 x\\nfloat64 y\\nfloat64 z', 'tcp_nodelay': '0', 'topic': '/correction', 'type': 'geometry_msgs/Twist'}\n",
      "[WARN] [1649115456.887201]: Could not process inbound connection: topic types do not match: [geometry_msgs/Twist] vs. [std_msgs/Float64MultiArray]{'callerid': '/ros_uli_wrapper', 'md5sum': '9f195f881246fdfa2798d1d3eebca84a', 'message_definition': '# This expresses velocity in free space broken into its linear and angular parts.\\nVector3  linear\\nVector3  angular\\n\\n================================================================================\\nMSG: geometry_msgs/Vector3\\n# This represents a vector in free space. \\n# It is only meant to represent a direction. Therefore, it does not\\n# make sense to apply a translation to it (e.g., when applying a \\n# generic rigid transformation to a Vector3, tf2 will only apply the\\n# rotation). If you want your data to be translatable too, use the\\n# geometry_msgs/Point message instead.\\n\\nfloat64 x\\nfloat64 y\\nfloat64 z', 'tcp_nodelay': '0', 'topic': '/correction', 'type': 'geometry_msgs/Twist'}\n",
      "[WARN] [1649115457.888126]: Could not process inbound connection: topic types do not match: [geometry_msgs/Twist] vs. [std_msgs/Float64MultiArray]{'callerid': '/ros_uli_wrapper', 'md5sum': '9f195f881246fdfa2798d1d3eebca84a', 'message_definition': '# This expresses velocity in free space broken into its linear and angular parts.\\nVector3  linear\\nVector3  angular\\n\\n================================================================================\\nMSG: geometry_msgs/Vector3\\n# This represents a vector in free space. \\n# It is only meant to represent a direction. Therefore, it does not\\n# make sense to apply a translation to it (e.g., when applying a \\n# generic rigid transformation to a Vector3, tf2 will only apply the\\n# rotation). If you want your data to be translatable too, use the\\n# geometry_msgs/Point message instead.\\n\\nfloat64 x\\nfloat64 y\\nfloat64 z', 'tcp_nodelay': '0', 'topic': '/correction', 'type': 'geometry_msgs/Twist'}\n"
     ]
    },
    {
     "name": "stdout",
     "output_type": "stream",
     "text": [
      "not hybrid\n",
      "hybrid\n"
     ]
    },
    {
     "name": "stderr",
     "output_type": "stream",
     "text": [
      "[WARN] [1649115459.890782]: Could not process inbound connection: topic types do not match: [geometry_msgs/Twist] vs. [std_msgs/Float64MultiArray]{'callerid': '/ros_uli_wrapper', 'md5sum': '9f195f881246fdfa2798d1d3eebca84a', 'message_definition': '# This expresses velocity in free space broken into its linear and angular parts.\\nVector3  linear\\nVector3  angular\\n\\n================================================================================\\nMSG: geometry_msgs/Vector3\\n# This represents a vector in free space. \\n# It is only meant to represent a direction. Therefore, it does not\\n# make sense to apply a translation to it (e.g., when applying a \\n# generic rigid transformation to a Vector3, tf2 will only apply the\\n# rotation). If you want your data to be translatable too, use the\\n# geometry_msgs/Point message instead.\\n\\nfloat64 x\\nfloat64 y\\nfloat64 z', 'tcp_nodelay': '0', 'topic': '/correction', 'type': 'geometry_msgs/Twist'}\n",
      "[WARN] [1649115463.899350]: Could not process inbound connection: topic types do not match: [geometry_msgs/Twist] vs. [std_msgs/Float64MultiArray]{'callerid': '/ros_uli_wrapper', 'md5sum': '9f195f881246fdfa2798d1d3eebca84a', 'message_definition': '# This expresses velocity in free space broken into its linear and angular parts.\\nVector3  linear\\nVector3  angular\\n\\n================================================================================\\nMSG: geometry_msgs/Vector3\\n# This represents a vector in free space. \\n# It is only meant to represent a direction. Therefore, it does not\\n# make sense to apply a translation to it (e.g., when applying a \\n# generic rigid transformation to a Vector3, tf2 will only apply the\\n# rotation). If you want your data to be translatable too, use the\\n# geometry_msgs/Point message instead.\\n\\nfloat64 x\\nfloat64 y\\nfloat64 z', 'tcp_nodelay': '0', 'topic': '/correction', 'type': 'geometry_msgs/Twist'}\n"
     ]
    },
    {
     "name": "stdout",
     "output_type": "stream",
     "text": [
      "not hybrid\n"
     ]
    },
    {
     "name": "stderr",
     "output_type": "stream",
     "text": [
      "[WARN] [1649115471.908015]: Could not process inbound connection: topic types do not match: [geometry_msgs/Twist] vs. [std_msgs/Float64MultiArray]{'callerid': '/ros_uli_wrapper', 'md5sum': '9f195f881246fdfa2798d1d3eebca84a', 'message_definition': '# This expresses velocity in free space broken into its linear and angular parts.\\nVector3  linear\\nVector3  angular\\n\\n================================================================================\\nMSG: geometry_msgs/Vector3\\n# This represents a vector in free space. \\n# It is only meant to represent a direction. Therefore, it does not\\n# make sense to apply a translation to it (e.g., when applying a \\n# generic rigid transformation to a Vector3, tf2 will only apply the\\n# rotation). If you want your data to be translatable too, use the\\n# geometry_msgs/Point message instead.\\n\\nfloat64 x\\nfloat64 y\\nfloat64 z', 'tcp_nodelay': '0', 'topic': '/correction', 'type': 'geometry_msgs/Twist'}\n",
      "[WARN] [1649115487.924209]: Could not process inbound connection: topic types do not match: [geometry_msgs/Twist] vs. [std_msgs/Float64MultiArray]{'callerid': '/ros_uli_wrapper', 'md5sum': '9f195f881246fdfa2798d1d3eebca84a', 'message_definition': '# This expresses velocity in free space broken into its linear and angular parts.\\nVector3  linear\\nVector3  angular\\n\\n================================================================================\\nMSG: geometry_msgs/Vector3\\n# This represents a vector in free space. \\n# It is only meant to represent a direction. Therefore, it does not\\n# make sense to apply a translation to it (e.g., when applying a \\n# generic rigid transformation to a Vector3, tf2 will only apply the\\n# rotation). If you want your data to be translatable too, use the\\n# geometry_msgs/Point message instead.\\n\\nfloat64 x\\nfloat64 y\\nfloat64 z', 'tcp_nodelay': '0', 'topic': '/correction', 'type': 'geometry_msgs/Twist'}\n",
      "[WARN] [1649115519.959219]: Could not process inbound connection: topic types do not match: [geometry_msgs/Twist] vs. [std_msgs/Float64MultiArray]{'callerid': '/ros_uli_wrapper', 'md5sum': '9f195f881246fdfa2798d1d3eebca84a', 'message_definition': '# This expresses velocity in free space broken into its linear and angular parts.\\nVector3  linear\\nVector3  angular\\n\\n================================================================================\\nMSG: geometry_msgs/Vector3\\n# This represents a vector in free space. \\n# It is only meant to represent a direction. Therefore, it does not\\n# make sense to apply a translation to it (e.g., when applying a \\n# generic rigid transformation to a Vector3, tf2 will only apply the\\n# rotation). If you want your data to be translatable too, use the\\n# geometry_msgs/Point message instead.\\n\\nfloat64 x\\nfloat64 y\\nfloat64 z', 'tcp_nodelay': '0', 'topic': '/correction', 'type': 'geometry_msgs/Twist'}\n",
      "[WARN] [1649115551.991379]: Could not process inbound connection: topic types do not match: [geometry_msgs/Twist] vs. [std_msgs/Float64MultiArray]{'callerid': '/ros_uli_wrapper', 'md5sum': '9f195f881246fdfa2798d1d3eebca84a', 'message_definition': '# This expresses velocity in free space broken into its linear and angular parts.\\nVector3  linear\\nVector3  angular\\n\\n================================================================================\\nMSG: geometry_msgs/Vector3\\n# This represents a vector in free space. \\n# It is only meant to represent a direction. Therefore, it does not\\n# make sense to apply a translation to it (e.g., when applying a \\n# generic rigid transformation to a Vector3, tf2 will only apply the\\n# rotation). If you want your data to be translatable too, use the\\n# geometry_msgs/Point message instead.\\n\\nfloat64 x\\nfloat64 y\\nfloat64 z', 'tcp_nodelay': '0', 'topic': '/correction', 'type': 'geometry_msgs/Twist'}\n",
      "[WARN] [1649115584.024671]: Could not process inbound connection: topic types do not match: [geometry_msgs/Twist] vs. [std_msgs/Float64MultiArray]{'callerid': '/ros_uli_wrapper', 'md5sum': '9f195f881246fdfa2798d1d3eebca84a', 'message_definition': '# This expresses velocity in free space broken into its linear and angular parts.\\nVector3  linear\\nVector3  angular\\n\\n================================================================================\\nMSG: geometry_msgs/Vector3\\n# This represents a vector in free space. \\n# It is only meant to represent a direction. Therefore, it does not\\n# make sense to apply a translation to it (e.g., when applying a \\n# generic rigid transformation to a Vector3, tf2 will only apply the\\n# rotation). If you want your data to be translatable too, use the\\n# geometry_msgs/Point message instead.\\n\\nfloat64 x\\nfloat64 y\\nfloat64 z', 'tcp_nodelay': '0', 'topic': '/correction', 'type': 'geometry_msgs/Twist'}\n",
      "[WARN] [1649115616.057662]: Could not process inbound connection: topic types do not match: [geometry_msgs/Twist] vs. [std_msgs/Float64MultiArray]{'callerid': '/ros_uli_wrapper', 'md5sum': '9f195f881246fdfa2798d1d3eebca84a', 'message_definition': '# This expresses velocity in free space broken into its linear and angular parts.\\nVector3  linear\\nVector3  angular\\n\\n================================================================================\\nMSG: geometry_msgs/Vector3\\n# This represents a vector in free space. \\n# It is only meant to represent a direction. Therefore, it does not\\n# make sense to apply a translation to it (e.g., when applying a \\n# generic rigid transformation to a Vector3, tf2 will only apply the\\n# rotation). If you want your data to be translatable too, use the\\n# geometry_msgs/Point message instead.\\n\\nfloat64 x\\nfloat64 y\\nfloat64 z', 'tcp_nodelay': '0', 'topic': '/correction', 'type': 'geometry_msgs/Twist'}\n",
      "[WARN] [1649115648.090682]: Could not process inbound connection: topic types do not match: [geometry_msgs/Twist] vs. [std_msgs/Float64MultiArray]{'callerid': '/ros_uli_wrapper', 'md5sum': '9f195f881246fdfa2798d1d3eebca84a', 'message_definition': '# This expresses velocity in free space broken into its linear and angular parts.\\nVector3  linear\\nVector3  angular\\n\\n================================================================================\\nMSG: geometry_msgs/Vector3\\n# This represents a vector in free space. \\n# It is only meant to represent a direction. Therefore, it does not\\n# make sense to apply a translation to it (e.g., when applying a \\n# generic rigid transformation to a Vector3, tf2 will only apply the\\n# rotation). If you want your data to be translatable too, use the\\n# geometry_msgs/Point message instead.\\n\\nfloat64 x\\nfloat64 y\\nfloat64 z', 'tcp_nodelay': '0', 'topic': '/correction', 'type': 'geometry_msgs/Twist'}\n",
      "[WARN] [1649115680.126384]: Could not process inbound connection: topic types do not match: [geometry_msgs/Twist] vs. [std_msgs/Float64MultiArray]{'callerid': '/ros_uli_wrapper', 'md5sum': '9f195f881246fdfa2798d1d3eebca84a', 'message_definition': '# This expresses velocity in free space broken into its linear and angular parts.\\nVector3  linear\\nVector3  angular\\n\\n================================================================================\\nMSG: geometry_msgs/Vector3\\n# This represents a vector in free space. \\n# It is only meant to represent a direction. Therefore, it does not\\n# make sense to apply a translation to it (e.g., when applying a \\n# generic rigid transformation to a Vector3, tf2 will only apply the\\n# rotation). If you want your data to be translatable too, use the\\n# geometry_msgs/Point message instead.\\n\\nfloat64 x\\nfloat64 y\\nfloat64 z', 'tcp_nodelay': '0', 'topic': '/correction', 'type': 'geometry_msgs/Twist'}\n",
      "[WARN] [1649115712.156436]: Could not process inbound connection: topic types do not match: [geometry_msgs/Twist] vs. [std_msgs/Float64MultiArray]{'callerid': '/ros_uli_wrapper', 'md5sum': '9f195f881246fdfa2798d1d3eebca84a', 'message_definition': '# This expresses velocity in free space broken into its linear and angular parts.\\nVector3  linear\\nVector3  angular\\n\\n================================================================================\\nMSG: geometry_msgs/Vector3\\n# This represents a vector in free space. \\n# It is only meant to represent a direction. Therefore, it does not\\n# make sense to apply a translation to it (e.g., when applying a \\n# generic rigid transformation to a Vector3, tf2 will only apply the\\n# rotation). If you want your data to be translatable too, use the\\n# geometry_msgs/Point message instead.\\n\\nfloat64 x\\nfloat64 y\\nfloat64 z', 'tcp_nodelay': '0', 'topic': '/correction', 'type': 'geometry_msgs/Twist'}\n"
     ]
    },
    {
     "name": "stderr",
     "output_type": "stream",
     "text": [
      "[WARN] [1649115744.177473]: Could not process inbound connection: topic types do not match: [geometry_msgs/Twist] vs. [std_msgs/Float64MultiArray]{'callerid': '/ros_uli_wrapper', 'md5sum': '9f195f881246fdfa2798d1d3eebca84a', 'message_definition': '# This expresses velocity in free space broken into its linear and angular parts.\\nVector3  linear\\nVector3  angular\\n\\n================================================================================\\nMSG: geometry_msgs/Vector3\\n# This represents a vector in free space. \\n# It is only meant to represent a direction. Therefore, it does not\\n# make sense to apply a translation to it (e.g., when applying a \\n# generic rigid transformation to a Vector3, tf2 will only apply the\\n# rotation). If you want your data to be translatable too, use the\\n# geometry_msgs/Point message instead.\\n\\nfloat64 x\\nfloat64 y\\nfloat64 z', 'tcp_nodelay': '0', 'topic': '/correction', 'type': 'geometry_msgs/Twist'}\n",
      "[WARN] [1649115776.209370]: Could not process inbound connection: topic types do not match: [geometry_msgs/Twist] vs. [std_msgs/Float64MultiArray]{'callerid': '/ros_uli_wrapper', 'md5sum': '9f195f881246fdfa2798d1d3eebca84a', 'message_definition': '# This expresses velocity in free space broken into its linear and angular parts.\\nVector3  linear\\nVector3  angular\\n\\n================================================================================\\nMSG: geometry_msgs/Vector3\\n# This represents a vector in free space. \\n# It is only meant to represent a direction. Therefore, it does not\\n# make sense to apply a translation to it (e.g., when applying a \\n# generic rigid transformation to a Vector3, tf2 will only apply the\\n# rotation). If you want your data to be translatable too, use the\\n# geometry_msgs/Point message instead.\\n\\nfloat64 x\\nfloat64 y\\nfloat64 z', 'tcp_nodelay': '0', 'topic': '/correction', 'type': 'geometry_msgs/Twist'}\n",
      "[WARN] [1649115808.241440]: Could not process inbound connection: topic types do not match: [geometry_msgs/Twist] vs. [std_msgs/Float64MultiArray]{'callerid': '/ros_uli_wrapper', 'md5sum': '9f195f881246fdfa2798d1d3eebca84a', 'message_definition': '# This expresses velocity in free space broken into its linear and angular parts.\\nVector3  linear\\nVector3  angular\\n\\n================================================================================\\nMSG: geometry_msgs/Vector3\\n# This represents a vector in free space. \\n# It is only meant to represent a direction. Therefore, it does not\\n# make sense to apply a translation to it (e.g., when applying a \\n# generic rigid transformation to a Vector3, tf2 will only apply the\\n# rotation). If you want your data to be translatable too, use the\\n# geometry_msgs/Point message instead.\\n\\nfloat64 x\\nfloat64 y\\nfloat64 z', 'tcp_nodelay': '0', 'topic': '/correction', 'type': 'geometry_msgs/Twist'}\n"
     ]
    }
   ],
   "source": [
    "############################\n",
    "# Execute model            #\n",
    "############################\n",
    "\n",
    "rospy.init_node('executeROSfromState', anonymous=True)\n",
    "\n",
    "r_surf = np.array([-0.012998855441079739, 0.0038797442750289337, 0.6952085803714532, 0.7186800450266385])\n",
    "t_surf = np.array([0.7386642513098021, -0.14878377910695914, 0.05452037505308755])\n",
    "\n",
    "model.executeModel(learnedSegments=learnedSegments, R_surface = r_surf, t_surface = t_surf)\n",
    "\n"
   ]
  },
  {
   "cell_type": "code",
   "execution_count": 2,
   "id": "threaded-vertical",
   "metadata": {},
   "outputs": [
    {
     "name": "stdout",
     "output_type": "stream",
     "text": [
      "QAPP:  [ 0.00243397 -0.1279647   0.00551956  0.99176038]\n"
     ]
    }
   ],
   "source": [
    "# Behavior three: Three passes on the layup2 surface (slow with corrections)\n",
    "\n",
    "import rospkg\n",
    "rospack = rospkg.RosPack()\n",
    "uliconfigpath = rospack.get_path('uli_config')\n",
    "\n",
    "\n",
    "surfaceBSplineFile = uliconfigpath+'/registration_models/layup_tool2_surface_demo.csv'\n",
    "surfaceBSpline = BSplineSurface()\n",
    "surfaceBSpline.loadSurface(surfaceBSplineFile)\n",
    "\n",
    "segments = []\n",
    "\n",
    "from scipy.spatial.transform import Rotation as ScipyR\n",
    "ang_relative_to_surface = 10 # degrees\n",
    "R_tool_surf = ScipyR.from_euler('y',ang_relative_to_surface,degrees=True)\n",
    "q_ts = R_tool_surf.as_quat()\n",
    "\n",
    "\n",
    "# Part 1: approach the starting point\n",
    "segment1 = HybridSegment()\n",
    "segment1.hybrid = False\n",
    "segment1.num_samples = 200 # 2 seconds\n",
    "segment1.state_names = ['x','y','z','qx','qy','qz','qw','delta_s','valve']\n",
    "segment1.corrections.append(np.zeros((len(segment1.state_names),segment1.num_samples)))\n",
    "\n",
    "approach_pt, n_hat, r_u_norm, r_v_norm = surfaceBSpline.calculate_surface_point(0.2, 0.2)\n",
    "R_surf = ScipyR.from_matrix(np.hstack([r_u_norm.reshape((3,1)), r_v_norm.reshape((3,1)), n_hat.reshape((3,1))]))\n",
    "q_app = (R_surf * R_tool_surf).as_quat()\n",
    "\n",
    "print(\"QAPP: \",q_app)\n",
    "\n",
    "starting = [approach_pt[0], approach_pt[1], approach_pt[2] + 0.05, 0.0, 0.0, 0.0, 1.0, 1.0, 0.0]\n",
    "ending = [approach_pt[0], approach_pt[1], approach_pt[2] + 0.0, q_app[0], q_app[1], q_app[2], q_app[3], 1.0, 1.0]\n",
    "orig_vals = interpMultD(starting,ending,segment1.num_samples)\n",
    "\n",
    "\n",
    "# number of state variables by number of samples\n",
    "\n",
    "segment1.original_vals = []\n",
    "segment1.original_vals.append(orig_vals)\n",
    "\n",
    "segments.append(segment1)\n",
    "\n",
    "\n",
    "# Part 2: one pass over surface (for now)\n",
    "segment2 = HybridSegment()\n",
    "segment2.hybrid = True\n",
    "segment2.surface = surfaceBSpline\n",
    "segment2.num_samples = 800 # 8 seconds\n",
    "segment2.state_names = ['u','v','f','theta_qx','theta_qy','theta_qz','theta_qw','delta_s','valve']\n",
    "segment2.original_vals = []\n",
    "\n",
    "R_extra_tool = ScipyR.from_euler('y',10,degrees=True)\n",
    "q_extra = R_extra_tool.as_quat()\n",
    "corrections = [0.0, 0.0, -5.0, q_extra[0], q_extra[1], q_extra[2], q_extra[3], -0.95, 0.0]\n",
    "segment2.corrections.append(interpMultD(corrections,corrections,segment2.num_samples))\n",
    "\n",
    "\n",
    "samps = int(segment2.num_samples / 5)\n",
    "waypoint_0 = interpMultD([0.2, 0.2, -5.0, q_ts[0], q_ts[1], q_ts[2], q_ts[3], 1.0, 1.0],[0.8, 0.2, -5.0, q_ts[0], q_ts[1], q_ts[2], q_ts[3], 1.0, 1.0],samps)\n",
    "waypoint_1 = interpMultD([0.8, 0.2, -5.0, q_ts[0], q_ts[1], q_ts[2], q_ts[3], 1.0, 1.0],[0.8, 0.5, -5.0, q_ts[0], q_ts[1], q_ts[2], q_ts[3], 1.0, 1.0],samps)\n",
    "waypoint_2 = interpMultD([0.8, 0.5, -5.0, q_ts[0], q_ts[1], q_ts[2], q_ts[3], 1.0, 1.0],[0.2, 0.5, -5.0, q_ts[0], q_ts[1], q_ts[2], q_ts[3], 1.0, 1.0],samps)\n",
    "waypoint_3 = interpMultD([0.2, 0.5, -5.0, q_ts[0], q_ts[1], q_ts[2], q_ts[3], 1.0, 1.0],[0.2, 0.8, -5.0, q_ts[0], q_ts[1], q_ts[2], q_ts[3], 1.0, 1.0],samps)\n",
    "waypoint_4 = interpMultD([0.2, 0.8, -5.0, q_ts[0], q_ts[1], q_ts[2], q_ts[3], 1.0, 1.0],[0.8, 0.8, -5.0, q_ts[0], q_ts[1], q_ts[2], q_ts[3], 1.0, 1.0],samps)\n",
    "\n",
    "waypoints = np.hstack([waypoint_0,waypoint_1,waypoint_2,waypoint_3,waypoint_4])\n",
    "\n",
    "segment2.original_vals.append(waypoints)\n",
    "\n",
    "segments.append(segment2)\n",
    "\n",
    "\n",
    "# # Part 3: move away from the surface\n",
    "segment3 = HybridSegment()\n",
    "segment3.hybrid = False\n",
    "segment3.num_samples = 200 # 2 seconds\n",
    "segment3.state_names = ['x','y','z','qx','qy','qz','qw','delta_s','valve']\n",
    "segment3.original_vals = []\n",
    "segment3.corrections.append(np.zeros((len(segment3.state_names),segment3.num_samples)))\n",
    "\n",
    "retract_pt, n_hat, r_u_norm, r_v_norm = surfaceBSpline.calculate_surface_point(0.8, 0.8)\n",
    "R_surf = ScipyR.from_matrix(np.hstack([r_u_norm.reshape((3,1)), r_v_norm.reshape((3,1)), n_hat.reshape((3,1))]))\n",
    "q_ret = (R_surf * R_tool_surf).as_quat()\n",
    "\n",
    "starting = [retract_pt[0], retract_pt[1], retract_pt[2]+ 0.005, q_ret[0], q_ret[1], q_ret[2], q_ret[3], 1.0, 1.0]\n",
    "ending = [retract_pt[0], retract_pt[1], retract_pt[2] + 0.1, 0.0, 0.0, 0.0, 1.0, 1.0, 0.0]\n",
    "orig_vals = interpMultD(starting,ending,segment3.num_samples)\n",
    "segment3.original_vals.append(orig_vals)\n",
    "\n",
    "segments.append(segment3)\n",
    "\n",
    "\n",
    "\n",
    "# from cProfile import Profile\n",
    "# from pstats import Stats\n",
    "\n",
    "# p = Profile()\n",
    "# p.enable()\n",
    "# <stuff>\n",
    "# p.disable()\n",
    "# Stats(p).sort_by('cumtime').print_stats()\n"
   ]
  },
  {
   "cell_type": "code",
   "execution_count": 3,
   "id": "loving-cathedral",
   "metadata": {},
   "outputs": [
    {
     "name": "stdout",
     "output_type": "stream",
     "text": [
      "-------------------\n",
      "Model Learning: DMP + LWR Hardcoded\n",
      "-------------------\n",
      "DMP for segment  0  of  2\n",
      "DMP for segment  1  of  2\n",
      "DMP for segment  2  of  2\n",
      "Time to learn model: 3.447256565093994 seconds\n",
      "seg time:  3.933906555175781e-05\n",
      "seg time:  0.6477739810943604\n",
      "seg time:  2.86102294921875e-05\n",
      "seg time:  0.00041604042053222656\n",
      "seg time:  0.6574265956878662\n",
      "seg time:  0.0004923343658447266\n"
     ]
    }
   ],
   "source": [
    "############################\n",
    "# Learn Layup2 model       #\n",
    "############################\n",
    "import rospkg\n",
    "rospack = rospkg.RosPack()\n",
    "config_dir = rospack.get_path('uli_config')+'/registration_models/'\n",
    "\n",
    "\n",
    "model = DMPLWRhardcoded(verbose=True)\n",
    "learnedSegments = model.learnModel(segments,config_dir+'layup_tool2_surface_demo.pkl') # second argument is the outfile\n"
   ]
  },
  {
   "cell_type": "code",
   "execution_count": 9,
   "id": "boxed-recovery",
   "metadata": {},
   "outputs": [
    {
     "name": "stdout",
     "output_type": "stream",
     "text": [
      "not hybrid\n",
      "hybrid\n",
      "not hybrid\n"
     ]
    }
   ],
   "source": [
    "############################\n",
    "# Execute model            #\n",
    "############################\n",
    "\n",
    "rospy.init_node('executeROSfromState', anonymous=True)\n",
    "\n",
    "r_surf = np.array([0.00263562868379795, 0.0037402736321456923, 0.7025148096105917, 0.711654414791612])\n",
    "t_surf = np.array([0.7201873467955325, -0.14119967410462786, 0.04773563206851919])\n",
    "\n",
    "model.executeModel(learnedSegments=learnedSegments, R_surface = r_surf, t_surface = t_surf, input_type='1dof')"
   ]
  },
  {
   "cell_type": "code",
   "execution_count": null,
   "id": "varied-handbook",
   "metadata": {},
   "outputs": [],
   "source": []
  }
 ],
 "metadata": {
  "kernelspec": {
   "display_name": "Python 3 (ipykernel)",
   "language": "python",
   "name": "python3"
  },
  "language_info": {
   "codemirror_mode": {
    "name": "ipython",
    "version": 3
   },
   "file_extension": ".py",
   "mimetype": "text/x-python",
   "name": "python",
   "nbconvert_exporter": "python",
   "pygments_lexer": "ipython3",
   "version": "3.8.10"
  }
 },
 "nbformat": 4,
 "nbformat_minor": 5
}
