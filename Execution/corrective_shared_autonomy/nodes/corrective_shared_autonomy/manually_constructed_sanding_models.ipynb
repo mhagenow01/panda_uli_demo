{
 "cells": [
  {
   "cell_type": "code",
   "execution_count": 6,
   "id": "brown-orange",
   "metadata": {},
   "outputs": [],
   "source": [
    "# Author: Mike Hagenow\n",
    "# Generate some templated behaviors for sanding (including corrections) to be learned through DMP-LWR\n",
    "\n",
    "import numpy as np\n",
    "import rospy\n",
    "\n",
    "from corrective_shared_autonomy.TaskModels.DMPLWRhardcoded import HybridSegment\n",
    "from corrective_shared_autonomy.TaskModels.DMPLWRhardcoded import DMPLWRhardcoded\n",
    "from core_robotics.PyBSpline import BSplineSurface\n",
    "\n",
    "# starting vals is a list of starting vals\n",
    "# ending vals is a list of ending vals\n",
    "# num_pts is how many interp values\n",
    "def interpMultD(starting_vals,ending_vals,num_pts):\n",
    "    vals = []\n",
    "    for ii in range(0,num_pts):\n",
    "        c_i = float(ii)/float(num_pts) # interpolation coefficient\n",
    "        vals.append(list(c_i*(e-s)+s for s,e in zip(starting_vals,ending_vals)))\n",
    "    return np.asarray(vals).T\n",
    "\n",
    "# returns num_vars x num_samples\n",
    "\n",
    "\n"
   ]
  },
  {
   "cell_type": "code",
   "execution_count": 18,
   "id": "sticky-illustration",
   "metadata": {},
   "outputs": [
    {
     "name": "stdout",
     "output_type": "stream",
     "text": [
      "[ 0.9780542  -0.01294066 -0.20794835]\n",
      "[-0.08715574  0.          0.          0.9961947 ]\n"
     ]
    }
   ],
   "source": [
    "# Behavior one: Two passes around stringer (for testing without running sanding tool)\n",
    "\n",
    "surfaceBSplineFile = '/home/mike/Documents/panda_uli_workspace/src/panda_uli_demo/ULIConfig/registration_models/stringer_surface_demo.csv'\n",
    "surfaceBSpline = BSplineSurface()\n",
    "surfaceBSpline.loadSurface(surfaceBSplineFile)\n",
    "\n",
    "segments = []\n",
    "\n",
    "from scipy.spatial.transform import Rotation as ScipyR\n",
    "ang_relative_to_surface = -10 # degrees\n",
    "R_tool_surf = ScipyR.from_euler('x',ang_relative_to_surface,degrees=True)\n",
    "q_ts = R_tool_surf.as_quat()\n",
    "\n",
    "\n",
    "# Part 1: approach the starting point\n",
    "segment = HybridSegment()\n",
    "segment.hybrid = False\n",
    "segment.num_samples = 100 # 2 seconds\n",
    "segment.state_names = ['x','y','z','qx','qy','qz','qw']\n",
    "\n",
    "approach_pt, n_hat, r_u_norm, r_v_norm = surfaceBSpline.calculate_surface_point(0.2, 0.2)\n",
    "\n",
    "print(r_v_norm)\n",
    "R_surf = ScipyR.from_matrix(np.hstack([r_u_norm.reshape((3,1)), r_v_norm.reshape((3,1)), n_hat.reshape((3,1))]))\n",
    "q_app = (R_surf * R_tool_surf).as_quat()\n",
    "\n",
    "starting = [approach_pt[0], approach_pt[1], approach_pt[2] + 0.1, 0.0, 0.0, 0.0, 1.0]\n",
    "ending = [approach_pt[0], approach_pt[1], approach_pt[2] + 0.0, q_app[0], q_app[1], q_app[2], q_app[3]]\n",
    "orig_vals = interpMultD(starting,ending,segment.num_samples)\n",
    "\n",
    "\n",
    "# number of state variables by number of samples\n",
    "\n",
    "segment.original_vals = []\n",
    "segment.original_vals.append(orig_vals)\n",
    "\n",
    "segments.append(segment)\n",
    "\n",
    "\n",
    "# Part 2: one pass over surface (for now)\n",
    "segment = HybridSegment()\n",
    "segment.hybrid = True\n",
    "segment.surface = surfaceBSpline\n",
    "segment.num_samples = 600 # 4 seconds\n",
    "segment.state_names = ['u','v','f','theta_qx','theta_qy','theta_qz','theta_qw']\n",
    "segment.original_vals = []\n",
    "\n",
    "print(q_ts)\n",
    "\n",
    "\n",
    "samps = int(segment.num_samples / 3)\n",
    "waypoint_0 = interpMultD([0.2, 0.2, -5.0, q_ts[0], q_ts[1], q_ts[2], q_ts[3]],[0.8, 0.2, -5.0, q_ts[0], q_ts[1], q_ts[2], q_ts[3]],samps)\n",
    "waypoint_1 = interpMultD([0.8, 0.2, -5.0, q_ts[0], q_ts[1], q_ts[2], q_ts[3]],[0.8, 0.8, -5.0, q_ts[0], q_ts[1], q_ts[2], q_ts[3]],samps)\n",
    "waypoint_2 = interpMultD([0.8, 0.8, -5.0, q_ts[0], q_ts[1], q_ts[2], q_ts[3]],[0.2, 0.8, -5.0, q_ts[0], q_ts[1], q_ts[2], q_ts[3]],samps)\n",
    "\n",
    "waypoints = np.hstack([waypoint_0,waypoint_1,waypoint_2])\n",
    "\n",
    "segment.original_vals.append(waypoints)\n",
    "\n",
    "segments.append(segment)\n",
    "\n",
    "\n",
    "# # Part 3: move away from the surface\n",
    "segment = HybridSegment()\n",
    "segment.hybrid = False\n",
    "segment.num_samples = 100 # 2 seconds\n",
    "segment.state_names = ['x','y','z','qx','qy','qz','qw']\n",
    "segment.original_vals = []\n",
    "\n",
    "retract_pt, n_hat, r_u_norm, r_v_norm = surfaceBSpline.calculate_surface_point(0.2, 0.8)\n",
    "R_surf = ScipyR.from_matrix(np.hstack([r_u_norm.reshape((3,1)), r_v_norm.reshape((3,1)), n_hat.reshape((3,1))]))\n",
    "q_ret = (R_surf * R_tool_surf).as_quat()\n",
    "\n",
    "starting = [retract_pt[0], retract_pt[1], retract_pt[2]+ 0.005, q_ret[0], q_ret[1], q_ret[2], q_ret[3]]\n",
    "ending = [retract_pt[0], retract_pt[1], retract_pt[2] + 0.1, 0.0, 0.0, 0.0, 1.0]\n",
    "orig_vals = interpMultD(starting,ending,segment.num_samples)\n",
    "segment.original_vals.append(orig_vals)\n",
    "\n",
    "segments.append(segment)\n",
    "\n",
    "\n",
    "\n",
    "# from cProfile import Profile\n",
    "# from pstats import Stats\n",
    "\n",
    "# p = Profile()\n",
    "# p.enable()\n",
    "# <stuff>\n",
    "# p.disable()\n",
    "# Stats(p).sort_by('cumtime').print_stats()"
   ]
  },
  {
   "cell_type": "code",
   "execution_count": 19,
   "id": "orange-number",
   "metadata": {},
   "outputs": [
    {
     "name": "stdout",
     "output_type": "stream",
     "text": [
      "-------------------\n",
      "Model Learning: DMP + LWR Hardcoded\n",
      "-------------------\n",
      "DMP for segment  0  of  2\n",
      "DMP for segment  1  of  2\n"
     ]
    },
    {
     "name": "stderr",
     "output_type": "stream",
     "text": [
      "[WARN] [1649188195.260565]: Could not process inbound connection: topic types do not match: [geometry_msgs/Twist] vs. [std_msgs/Float64MultiArray]{'callerid': '/ros_uli_wrapper', 'md5sum': '9f195f881246fdfa2798d1d3eebca84a', 'message_definition': '# This expresses velocity in free space broken into its linear and angular parts.\\nVector3  linear\\nVector3  angular\\n\\n================================================================================\\nMSG: geometry_msgs/Vector3\\n# This represents a vector in free space. \\n# It is only meant to represent a direction. Therefore, it does not\\n# make sense to apply a translation to it (e.g., when applying a \\n# generic rigid transformation to a Vector3, tf2 will only apply the\\n# rotation). If you want your data to be translatable too, use the\\n# geometry_msgs/Point message instead.\\n\\nfloat64 x\\nfloat64 y\\nfloat64 z', 'tcp_nodelay': '0', 'topic': '/correction', 'type': 'geometry_msgs/Twist'}\n"
     ]
    },
    {
     "name": "stdout",
     "output_type": "stream",
     "text": [
      "DMP for segment  2  of  2\n",
      "Time to learn model: 24.421236753463745 seconds\n"
     ]
    },
    {
     "name": "stderr",
     "output_type": "stream",
     "text": [
      "[WARN] [1649188227.293376]: Could not process inbound connection: topic types do not match: [geometry_msgs/Twist] vs. [std_msgs/Float64MultiArray]{'callerid': '/ros_uli_wrapper', 'md5sum': '9f195f881246fdfa2798d1d3eebca84a', 'message_definition': '# This expresses velocity in free space broken into its linear and angular parts.\\nVector3  linear\\nVector3  angular\\n\\n================================================================================\\nMSG: geometry_msgs/Vector3\\n# This represents a vector in free space. \\n# It is only meant to represent a direction. Therefore, it does not\\n# make sense to apply a translation to it (e.g., when applying a \\n# generic rigid transformation to a Vector3, tf2 will only apply the\\n# rotation). If you want your data to be translatable too, use the\\n# geometry_msgs/Point message instead.\\n\\nfloat64 x\\nfloat64 y\\nfloat64 z', 'tcp_nodelay': '0', 'topic': '/correction', 'type': 'geometry_msgs/Twist'}\n",
      "[WARN] [1649188259.326262]: Could not process inbound connection: topic types do not match: [geometry_msgs/Twist] vs. [std_msgs/Float64MultiArray]{'callerid': '/ros_uli_wrapper', 'md5sum': '9f195f881246fdfa2798d1d3eebca84a', 'message_definition': '# This expresses velocity in free space broken into its linear and angular parts.\\nVector3  linear\\nVector3  angular\\n\\n================================================================================\\nMSG: geometry_msgs/Vector3\\n# This represents a vector in free space. \\n# It is only meant to represent a direction. Therefore, it does not\\n# make sense to apply a translation to it (e.g., when applying a \\n# generic rigid transformation to a Vector3, tf2 will only apply the\\n# rotation). If you want your data to be translatable too, use the\\n# geometry_msgs/Point message instead.\\n\\nfloat64 x\\nfloat64 y\\nfloat64 z', 'tcp_nodelay': '0', 'topic': '/correction', 'type': 'geometry_msgs/Twist'}\n",
      "[WARN] [1649188281.310231]: Could not process inbound connection: topic types do not match: [geometry_msgs/Twist] vs. [std_msgs/Float64MultiArray]{'callerid': '/ros_uli_wrapper', 'md5sum': '9f195f881246fdfa2798d1d3eebca84a', 'message_definition': '# This expresses velocity in free space broken into its linear and angular parts.\\nVector3  linear\\nVector3  angular\\n\\n================================================================================\\nMSG: geometry_msgs/Vector3\\n# This represents a vector in free space. \\n# It is only meant to represent a direction. Therefore, it does not\\n# make sense to apply a translation to it (e.g., when applying a \\n# generic rigid transformation to a Vector3, tf2 will only apply the\\n# rotation). If you want your data to be translatable too, use the\\n# geometry_msgs/Point message instead.\\n\\nfloat64 x\\nfloat64 y\\nfloat64 z', 'tcp_nodelay': '0', 'topic': '/correction', 'type': 'geometry_msgs/Twist'}\n",
      "[WARN] [1649188282.322156]: Could not process inbound connection: topic types do not match: [geometry_msgs/Twist] vs. [std_msgs/Float64MultiArray]{'callerid': '/ros_uli_wrapper', 'md5sum': '9f195f881246fdfa2798d1d3eebca84a', 'message_definition': '# This expresses velocity in free space broken into its linear and angular parts.\\nVector3  linear\\nVector3  angular\\n\\n================================================================================\\nMSG: geometry_msgs/Vector3\\n# This represents a vector in free space. \\n# It is only meant to represent a direction. Therefore, it does not\\n# make sense to apply a translation to it (e.g., when applying a \\n# generic rigid transformation to a Vector3, tf2 will only apply the\\n# rotation). If you want your data to be translatable too, use the\\n# geometry_msgs/Point message instead.\\n\\nfloat64 x\\nfloat64 y\\nfloat64 z', 'tcp_nodelay': '0', 'topic': '/correction', 'type': 'geometry_msgs/Twist'}\n",
      "[WARN] [1649188283.335804]: Could not process inbound connection: topic types do not match: [geometry_msgs/Twist] vs. [std_msgs/Float64MultiArray]{'callerid': '/ros_uli_wrapper', 'md5sum': '9f195f881246fdfa2798d1d3eebca84a', 'message_definition': '# This expresses velocity in free space broken into its linear and angular parts.\\nVector3  linear\\nVector3  angular\\n\\n================================================================================\\nMSG: geometry_msgs/Vector3\\n# This represents a vector in free space. \\n# It is only meant to represent a direction. Therefore, it does not\\n# make sense to apply a translation to it (e.g., when applying a \\n# generic rigid transformation to a Vector3, tf2 will only apply the\\n# rotation). If you want your data to be translatable too, use the\\n# geometry_msgs/Point message instead.\\n\\nfloat64 x\\nfloat64 y\\nfloat64 z', 'tcp_nodelay': '0', 'topic': '/correction', 'type': 'geometry_msgs/Twist'}\n",
      "[WARN] [1649188285.338656]: Could not process inbound connection: topic types do not match: [geometry_msgs/Twist] vs. [std_msgs/Float64MultiArray]{'callerid': '/ros_uli_wrapper', 'md5sum': '9f195f881246fdfa2798d1d3eebca84a', 'message_definition': '# This expresses velocity in free space broken into its linear and angular parts.\\nVector3  linear\\nVector3  angular\\n\\n================================================================================\\nMSG: geometry_msgs/Vector3\\n# This represents a vector in free space. \\n# It is only meant to represent a direction. Therefore, it does not\\n# make sense to apply a translation to it (e.g., when applying a \\n# generic rigid transformation to a Vector3, tf2 will only apply the\\n# rotation). If you want your data to be translatable too, use the\\n# geometry_msgs/Point message instead.\\n\\nfloat64 x\\nfloat64 y\\nfloat64 z', 'tcp_nodelay': '0', 'topic': '/correction', 'type': 'geometry_msgs/Twist'}\n",
      "[WARN] [1649188289.343651]: Could not process inbound connection: topic types do not match: [geometry_msgs/Twist] vs. [std_msgs/Float64MultiArray]{'callerid': '/ros_uli_wrapper', 'md5sum': '9f195f881246fdfa2798d1d3eebca84a', 'message_definition': '# This expresses velocity in free space broken into its linear and angular parts.\\nVector3  linear\\nVector3  angular\\n\\n================================================================================\\nMSG: geometry_msgs/Vector3\\n# This represents a vector in free space. \\n# It is only meant to represent a direction. Therefore, it does not\\n# make sense to apply a translation to it (e.g., when applying a \\n# generic rigid transformation to a Vector3, tf2 will only apply the\\n# rotation). If you want your data to be translatable too, use the\\n# geometry_msgs/Point message instead.\\n\\nfloat64 x\\nfloat64 y\\nfloat64 z', 'tcp_nodelay': '0', 'topic': '/correction', 'type': 'geometry_msgs/Twist'}\n",
      "[WARN] [1649188297.352346]: Could not process inbound connection: topic types do not match: [geometry_msgs/Twist] vs. [std_msgs/Float64MultiArray]{'callerid': '/ros_uli_wrapper', 'md5sum': '9f195f881246fdfa2798d1d3eebca84a', 'message_definition': '# This expresses velocity in free space broken into its linear and angular parts.\\nVector3  linear\\nVector3  angular\\n\\n================================================================================\\nMSG: geometry_msgs/Vector3\\n# This represents a vector in free space. \\n# It is only meant to represent a direction. Therefore, it does not\\n# make sense to apply a translation to it (e.g., when applying a \\n# generic rigid transformation to a Vector3, tf2 will only apply the\\n# rotation). If you want your data to be translatable too, use the\\n# geometry_msgs/Point message instead.\\n\\nfloat64 x\\nfloat64 y\\nfloat64 z', 'tcp_nodelay': '0', 'topic': '/correction', 'type': 'geometry_msgs/Twist'}\n",
      "[WARN] [1649188313.370542]: Could not process inbound connection: topic types do not match: [geometry_msgs/Twist] vs. [std_msgs/Float64MultiArray]{'callerid': '/ros_uli_wrapper', 'md5sum': '9f195f881246fdfa2798d1d3eebca84a', 'message_definition': '# This expresses velocity in free space broken into its linear and angular parts.\\nVector3  linear\\nVector3  angular\\n\\n================================================================================\\nMSG: geometry_msgs/Vector3\\n# This represents a vector in free space. \\n# It is only meant to represent a direction. Therefore, it does not\\n# make sense to apply a translation to it (e.g., when applying a \\n# generic rigid transformation to a Vector3, tf2 will only apply the\\n# rotation). If you want your data to be translatable too, use the\\n# geometry_msgs/Point message instead.\\n\\nfloat64 x\\nfloat64 y\\nfloat64 z', 'tcp_nodelay': '0', 'topic': '/correction', 'type': 'geometry_msgs/Twist'}\n"
     ]
    }
   ],
   "source": [
    "############################\n",
    "# Learn Stringer model       #\n",
    "############################\n",
    "import rospkg\n",
    "rospack = rospkg.RosPack()\n",
    "config_dir = rospack.get_path('corrective_shared_autonomy')+'/../../ULIConfig/registration_models/'\n",
    "\n",
    "\n",
    "model = DMPLWRhardcoded(verbose=True)\n",
    "learnedSegments = model.learnModel(segments,config_dir+'stringer_surface_demo.pkl') # second argument is the outfile\n"
   ]
  },
  {
   "cell_type": "code",
   "execution_count": 5,
   "id": "worse-warrior",
   "metadata": {},
   "outputs": [
    {
     "name": "stdout",
     "output_type": "stream",
     "text": [
      "QAPP:  [ 0.00243397 -0.1279647   0.00551956  0.99176038]\n"
     ]
    },
    {
     "name": "stderr",
     "output_type": "stream",
     "text": [
      "[WARN] [1649115840.274662]: Could not process inbound connection: topic types do not match: [geometry_msgs/Twist] vs. [std_msgs/Float64MultiArray]{'callerid': '/ros_uli_wrapper', 'md5sum': '9f195f881246fdfa2798d1d3eebca84a', 'message_definition': '# This expresses velocity in free space broken into its linear and angular parts.\\nVector3  linear\\nVector3  angular\\n\\n================================================================================\\nMSG: geometry_msgs/Vector3\\n# This represents a vector in free space. \\n# It is only meant to represent a direction. Therefore, it does not\\n# make sense to apply a translation to it (e.g., when applying a \\n# generic rigid transformation to a Vector3, tf2 will only apply the\\n# rotation). If you want your data to be translatable too, use the\\n# geometry_msgs/Point message instead.\\n\\nfloat64 x\\nfloat64 y\\nfloat64 z', 'tcp_nodelay': '0', 'topic': '/correction', 'type': 'geometry_msgs/Twist'}\n",
      "[WARN] [1649115872.308383]: Could not process inbound connection: topic types do not match: [geometry_msgs/Twist] vs. [std_msgs/Float64MultiArray]{'callerid': '/ros_uli_wrapper', 'md5sum': '9f195f881246fdfa2798d1d3eebca84a', 'message_definition': '# This expresses velocity in free space broken into its linear and angular parts.\\nVector3  linear\\nVector3  angular\\n\\n================================================================================\\nMSG: geometry_msgs/Vector3\\n# This represents a vector in free space. \\n# It is only meant to represent a direction. Therefore, it does not\\n# make sense to apply a translation to it (e.g., when applying a \\n# generic rigid transformation to a Vector3, tf2 will only apply the\\n# rotation). If you want your data to be translatable too, use the\\n# geometry_msgs/Point message instead.\\n\\nfloat64 x\\nfloat64 y\\nfloat64 z', 'tcp_nodelay': '0', 'topic': '/correction', 'type': 'geometry_msgs/Twist'}\n",
      "[WARN] [1649115904.341359]: Could not process inbound connection: topic types do not match: [geometry_msgs/Twist] vs. [std_msgs/Float64MultiArray]{'callerid': '/ros_uli_wrapper', 'md5sum': '9f195f881246fdfa2798d1d3eebca84a', 'message_definition': '# This expresses velocity in free space broken into its linear and angular parts.\\nVector3  linear\\nVector3  angular\\n\\n================================================================================\\nMSG: geometry_msgs/Vector3\\n# This represents a vector in free space. \\n# It is only meant to represent a direction. Therefore, it does not\\n# make sense to apply a translation to it (e.g., when applying a \\n# generic rigid transformation to a Vector3, tf2 will only apply the\\n# rotation). If you want your data to be translatable too, use the\\n# geometry_msgs/Point message instead.\\n\\nfloat64 x\\nfloat64 y\\nfloat64 z', 'tcp_nodelay': '0', 'topic': '/correction', 'type': 'geometry_msgs/Twist'}\n",
      "[WARN] [1649115936.375322]: Could not process inbound connection: topic types do not match: [geometry_msgs/Twist] vs. [std_msgs/Float64MultiArray]{'callerid': '/ros_uli_wrapper', 'md5sum': '9f195f881246fdfa2798d1d3eebca84a', 'message_definition': '# This expresses velocity in free space broken into its linear and angular parts.\\nVector3  linear\\nVector3  angular\\n\\n================================================================================\\nMSG: geometry_msgs/Vector3\\n# This represents a vector in free space. \\n# It is only meant to represent a direction. Therefore, it does not\\n# make sense to apply a translation to it (e.g., when applying a \\n# generic rigid transformation to a Vector3, tf2 will only apply the\\n# rotation). If you want your data to be translatable too, use the\\n# geometry_msgs/Point message instead.\\n\\nfloat64 x\\nfloat64 y\\nfloat64 z', 'tcp_nodelay': '0', 'topic': '/correction', 'type': 'geometry_msgs/Twist'}\n",
      "[WARN] [1649115968.408374]: Could not process inbound connection: topic types do not match: [geometry_msgs/Twist] vs. [std_msgs/Float64MultiArray]{'callerid': '/ros_uli_wrapper', 'md5sum': '9f195f881246fdfa2798d1d3eebca84a', 'message_definition': '# This expresses velocity in free space broken into its linear and angular parts.\\nVector3  linear\\nVector3  angular\\n\\n================================================================================\\nMSG: geometry_msgs/Vector3\\n# This represents a vector in free space. \\n# It is only meant to represent a direction. Therefore, it does not\\n# make sense to apply a translation to it (e.g., when applying a \\n# generic rigid transformation to a Vector3, tf2 will only apply the\\n# rotation). If you want your data to be translatable too, use the\\n# geometry_msgs/Point message instead.\\n\\nfloat64 x\\nfloat64 y\\nfloat64 z', 'tcp_nodelay': '0', 'topic': '/correction', 'type': 'geometry_msgs/Twist'}\n",
      "[WARN] [1649116000.440517]: Could not process inbound connection: topic types do not match: [geometry_msgs/Twist] vs. [std_msgs/Float64MultiArray]{'callerid': '/ros_uli_wrapper', 'md5sum': '9f195f881246fdfa2798d1d3eebca84a', 'message_definition': '# This expresses velocity in free space broken into its linear and angular parts.\\nVector3  linear\\nVector3  angular\\n\\n================================================================================\\nMSG: geometry_msgs/Vector3\\n# This represents a vector in free space. \\n# It is only meant to represent a direction. Therefore, it does not\\n# make sense to apply a translation to it (e.g., when applying a \\n# generic rigid transformation to a Vector3, tf2 will only apply the\\n# rotation). If you want your data to be translatable too, use the\\n# geometry_msgs/Point message instead.\\n\\nfloat64 x\\nfloat64 y\\nfloat64 z', 'tcp_nodelay': '0', 'topic': '/correction', 'type': 'geometry_msgs/Twist'}\n",
      "[WARN] [1649116027.772300]: Could not process inbound connection: topic types do not match: [geometry_msgs/Twist] vs. [std_msgs/Float64MultiArray]{'callerid': '/ros_uli_wrapper', 'md5sum': '9f195f881246fdfa2798d1d3eebca84a', 'message_definition': '# This expresses velocity in free space broken into its linear and angular parts.\\nVector3  linear\\nVector3  angular\\n\\n================================================================================\\nMSG: geometry_msgs/Vector3\\n# This represents a vector in free space. \\n# It is only meant to represent a direction. Therefore, it does not\\n# make sense to apply a translation to it (e.g., when applying a \\n# generic rigid transformation to a Vector3, tf2 will only apply the\\n# rotation). If you want your data to be translatable too, use the\\n# geometry_msgs/Point message instead.\\n\\nfloat64 x\\nfloat64 y\\nfloat64 z', 'tcp_nodelay': '0', 'topic': '/correction', 'type': 'geometry_msgs/Twist'}\n",
      "[WARN] [1649116028.790438]: Could not process inbound connection: topic types do not match: [geometry_msgs/Twist] vs. [std_msgs/Float64MultiArray]{'callerid': '/ros_uli_wrapper', 'md5sum': '9f195f881246fdfa2798d1d3eebca84a', 'message_definition': '# This expresses velocity in free space broken into its linear and angular parts.\\nVector3  linear\\nVector3  angular\\n\\n================================================================================\\nMSG: geometry_msgs/Vector3\\n# This represents a vector in free space. \\n# It is only meant to represent a direction. Therefore, it does not\\n# make sense to apply a translation to it (e.g., when applying a \\n# generic rigid transformation to a Vector3, tf2 will only apply the\\n# rotation). If you want your data to be translatable too, use the\\n# geometry_msgs/Point message instead.\\n\\nfloat64 x\\nfloat64 y\\nfloat64 z', 'tcp_nodelay': '0', 'topic': '/correction', 'type': 'geometry_msgs/Twist'}\n",
      "[WARN] [1649116029.794269]: Could not process inbound connection: topic types do not match: [geometry_msgs/Twist] vs. [std_msgs/Float64MultiArray]{'callerid': '/ros_uli_wrapper', 'md5sum': '9f195f881246fdfa2798d1d3eebca84a', 'message_definition': '# This expresses velocity in free space broken into its linear and angular parts.\\nVector3  linear\\nVector3  angular\\n\\n================================================================================\\nMSG: geometry_msgs/Vector3\\n# This represents a vector in free space. \\n# It is only meant to represent a direction. Therefore, it does not\\n# make sense to apply a translation to it (e.g., when applying a \\n# generic rigid transformation to a Vector3, tf2 will only apply the\\n# rotation). If you want your data to be translatable too, use the\\n# geometry_msgs/Point message instead.\\n\\nfloat64 x\\nfloat64 y\\nfloat64 z', 'tcp_nodelay': '0', 'topic': '/correction', 'type': 'geometry_msgs/Twist'}\n"
     ]
    },
    {
     "name": "stderr",
     "output_type": "stream",
     "text": [
      "[WARN] [1649116031.797430]: Could not process inbound connection: topic types do not match: [geometry_msgs/Twist] vs. [std_msgs/Float64MultiArray]{'callerid': '/ros_uli_wrapper', 'md5sum': '9f195f881246fdfa2798d1d3eebca84a', 'message_definition': '# This expresses velocity in free space broken into its linear and angular parts.\\nVector3  linear\\nVector3  angular\\n\\n================================================================================\\nMSG: geometry_msgs/Vector3\\n# This represents a vector in free space. \\n# It is only meant to represent a direction. Therefore, it does not\\n# make sense to apply a translation to it (e.g., when applying a \\n# generic rigid transformation to a Vector3, tf2 will only apply the\\n# rotation). If you want your data to be translatable too, use the\\n# geometry_msgs/Point message instead.\\n\\nfloat64 x\\nfloat64 y\\nfloat64 z', 'tcp_nodelay': '0', 'topic': '/correction', 'type': 'geometry_msgs/Twist'}\n",
      "[WARN] [1649116035.804465]: Could not process inbound connection: topic types do not match: [geometry_msgs/Twist] vs. [std_msgs/Float64MultiArray]{'callerid': '/ros_uli_wrapper', 'md5sum': '9f195f881246fdfa2798d1d3eebca84a', 'message_definition': '# This expresses velocity in free space broken into its linear and angular parts.\\nVector3  linear\\nVector3  angular\\n\\n================================================================================\\nMSG: geometry_msgs/Vector3\\n# This represents a vector in free space. \\n# It is only meant to represent a direction. Therefore, it does not\\n# make sense to apply a translation to it (e.g., when applying a \\n# generic rigid transformation to a Vector3, tf2 will only apply the\\n# rotation). If you want your data to be translatable too, use the\\n# geometry_msgs/Point message instead.\\n\\nfloat64 x\\nfloat64 y\\nfloat64 z', 'tcp_nodelay': '0', 'topic': '/correction', 'type': 'geometry_msgs/Twist'}\n",
      "[WARN] [1649116043.813474]: Could not process inbound connection: topic types do not match: [geometry_msgs/Twist] vs. [std_msgs/Float64MultiArray]{'callerid': '/ros_uli_wrapper', 'md5sum': '9f195f881246fdfa2798d1d3eebca84a', 'message_definition': '# This expresses velocity in free space broken into its linear and angular parts.\\nVector3  linear\\nVector3  angular\\n\\n================================================================================\\nMSG: geometry_msgs/Vector3\\n# This represents a vector in free space. \\n# It is only meant to represent a direction. Therefore, it does not\\n# make sense to apply a translation to it (e.g., when applying a \\n# generic rigid transformation to a Vector3, tf2 will only apply the\\n# rotation). If you want your data to be translatable too, use the\\n# geometry_msgs/Point message instead.\\n\\nfloat64 x\\nfloat64 y\\nfloat64 z', 'tcp_nodelay': '0', 'topic': '/correction', 'type': 'geometry_msgs/Twist'}\n",
      "[WARN] [1649116059.831638]: Could not process inbound connection: topic types do not match: [geometry_msgs/Twist] vs. [std_msgs/Float64MultiArray]{'callerid': '/ros_uli_wrapper', 'md5sum': '9f195f881246fdfa2798d1d3eebca84a', 'message_definition': '# This expresses velocity in free space broken into its linear and angular parts.\\nVector3  linear\\nVector3  angular\\n\\n================================================================================\\nMSG: geometry_msgs/Vector3\\n# This represents a vector in free space. \\n# It is only meant to represent a direction. Therefore, it does not\\n# make sense to apply a translation to it (e.g., when applying a \\n# generic rigid transformation to a Vector3, tf2 will only apply the\\n# rotation). If you want your data to be translatable too, use the\\n# geometry_msgs/Point message instead.\\n\\nfloat64 x\\nfloat64 y\\nfloat64 z', 'tcp_nodelay': '0', 'topic': '/correction', 'type': 'geometry_msgs/Twist'}\n",
      "[WARN] [1649116091.865929]: Could not process inbound connection: topic types do not match: [geometry_msgs/Twist] vs. [std_msgs/Float64MultiArray]{'callerid': '/ros_uli_wrapper', 'md5sum': '9f195f881246fdfa2798d1d3eebca84a', 'message_definition': '# This expresses velocity in free space broken into its linear and angular parts.\\nVector3  linear\\nVector3  angular\\n\\n================================================================================\\nMSG: geometry_msgs/Vector3\\n# This represents a vector in free space. \\n# It is only meant to represent a direction. Therefore, it does not\\n# make sense to apply a translation to it (e.g., when applying a \\n# generic rigid transformation to a Vector3, tf2 will only apply the\\n# rotation). If you want your data to be translatable too, use the\\n# geometry_msgs/Point message instead.\\n\\nfloat64 x\\nfloat64 y\\nfloat64 z', 'tcp_nodelay': '0', 'topic': '/correction', 'type': 'geometry_msgs/Twist'}\n",
      "[WARN] [1649116123.898014]: Could not process inbound connection: topic types do not match: [geometry_msgs/Twist] vs. [std_msgs/Float64MultiArray]{'callerid': '/ros_uli_wrapper', 'md5sum': '9f195f881246fdfa2798d1d3eebca84a', 'message_definition': '# This expresses velocity in free space broken into its linear and angular parts.\\nVector3  linear\\nVector3  angular\\n\\n================================================================================\\nMSG: geometry_msgs/Vector3\\n# This represents a vector in free space. \\n# It is only meant to represent a direction. Therefore, it does not\\n# make sense to apply a translation to it (e.g., when applying a \\n# generic rigid transformation to a Vector3, tf2 will only apply the\\n# rotation). If you want your data to be translatable too, use the\\n# geometry_msgs/Point message instead.\\n\\nfloat64 x\\nfloat64 y\\nfloat64 z', 'tcp_nodelay': '0', 'topic': '/correction', 'type': 'geometry_msgs/Twist'}\n",
      "[WARN] [1649116155.932112]: Could not process inbound connection: topic types do not match: [geometry_msgs/Twist] vs. [std_msgs/Float64MultiArray]{'callerid': '/ros_uli_wrapper', 'md5sum': '9f195f881246fdfa2798d1d3eebca84a', 'message_definition': '# This expresses velocity in free space broken into its linear and angular parts.\\nVector3  linear\\nVector3  angular\\n\\n================================================================================\\nMSG: geometry_msgs/Vector3\\n# This represents a vector in free space. \\n# It is only meant to represent a direction. Therefore, it does not\\n# make sense to apply a translation to it (e.g., when applying a \\n# generic rigid transformation to a Vector3, tf2 will only apply the\\n# rotation). If you want your data to be translatable too, use the\\n# geometry_msgs/Point message instead.\\n\\nfloat64 x\\nfloat64 y\\nfloat64 z', 'tcp_nodelay': '0', 'topic': '/correction', 'type': 'geometry_msgs/Twist'}\n",
      "[WARN] [1649116187.965018]: Could not process inbound connection: topic types do not match: [geometry_msgs/Twist] vs. [std_msgs/Float64MultiArray]{'callerid': '/ros_uli_wrapper', 'md5sum': '9f195f881246fdfa2798d1d3eebca84a', 'message_definition': '# This expresses velocity in free space broken into its linear and angular parts.\\nVector3  linear\\nVector3  angular\\n\\n================================================================================\\nMSG: geometry_msgs/Vector3\\n# This represents a vector in free space. \\n# It is only meant to represent a direction. Therefore, it does not\\n# make sense to apply a translation to it (e.g., when applying a \\n# generic rigid transformation to a Vector3, tf2 will only apply the\\n# rotation). If you want your data to be translatable too, use the\\n# geometry_msgs/Point message instead.\\n\\nfloat64 x\\nfloat64 y\\nfloat64 z', 'tcp_nodelay': '0', 'topic': '/correction', 'type': 'geometry_msgs/Twist'}\n",
      "[WARN] [1649116219.998276]: Could not process inbound connection: topic types do not match: [geometry_msgs/Twist] vs. [std_msgs/Float64MultiArray]{'callerid': '/ros_uli_wrapper', 'md5sum': '9f195f881246fdfa2798d1d3eebca84a', 'message_definition': '# This expresses velocity in free space broken into its linear and angular parts.\\nVector3  linear\\nVector3  angular\\n\\n================================================================================\\nMSG: geometry_msgs/Vector3\\n# This represents a vector in free space. \\n# It is only meant to represent a direction. Therefore, it does not\\n# make sense to apply a translation to it (e.g., when applying a \\n# generic rigid transformation to a Vector3, tf2 will only apply the\\n# rotation). If you want your data to be translatable too, use the\\n# geometry_msgs/Point message instead.\\n\\nfloat64 x\\nfloat64 y\\nfloat64 z', 'tcp_nodelay': '0', 'topic': '/correction', 'type': 'geometry_msgs/Twist'}\n"
     ]
    },
    {
     "name": "stderr",
     "output_type": "stream",
     "text": [
      "[WARN] [1649116252.030787]: Could not process inbound connection: topic types do not match: [geometry_msgs/Twist] vs. [std_msgs/Float64MultiArray]{'callerid': '/ros_uli_wrapper', 'md5sum': '9f195f881246fdfa2798d1d3eebca84a', 'message_definition': '# This expresses velocity in free space broken into its linear and angular parts.\\nVector3  linear\\nVector3  angular\\n\\n================================================================================\\nMSG: geometry_msgs/Vector3\\n# This represents a vector in free space. \\n# It is only meant to represent a direction. Therefore, it does not\\n# make sense to apply a translation to it (e.g., when applying a \\n# generic rigid transformation to a Vector3, tf2 will only apply the\\n# rotation). If you want your data to be translatable too, use the\\n# geometry_msgs/Point message instead.\\n\\nfloat64 x\\nfloat64 y\\nfloat64 z', 'tcp_nodelay': '0', 'topic': '/correction', 'type': 'geometry_msgs/Twist'}\n",
      "[WARN] [1649116284.100842]: Could not process inbound connection: topic types do not match: [geometry_msgs/Twist] vs. [std_msgs/Float64MultiArray]{'callerid': '/ros_uli_wrapper', 'md5sum': '9f195f881246fdfa2798d1d3eebca84a', 'message_definition': '# This expresses velocity in free space broken into its linear and angular parts.\\nVector3  linear\\nVector3  angular\\n\\n================================================================================\\nMSG: geometry_msgs/Vector3\\n# This represents a vector in free space. \\n# It is only meant to represent a direction. Therefore, it does not\\n# make sense to apply a translation to it (e.g., when applying a \\n# generic rigid transformation to a Vector3, tf2 will only apply the\\n# rotation). If you want your data to be translatable too, use the\\n# geometry_msgs/Point message instead.\\n\\nfloat64 x\\nfloat64 y\\nfloat64 z', 'tcp_nodelay': '0', 'topic': '/correction', 'type': 'geometry_msgs/Twist'}\n",
      "[WARN] [1649116316.137395]: Could not process inbound connection: topic types do not match: [geometry_msgs/Twist] vs. [std_msgs/Float64MultiArray]{'callerid': '/ros_uli_wrapper', 'md5sum': '9f195f881246fdfa2798d1d3eebca84a', 'message_definition': '# This expresses velocity in free space broken into its linear and angular parts.\\nVector3  linear\\nVector3  angular\\n\\n================================================================================\\nMSG: geometry_msgs/Vector3\\n# This represents a vector in free space. \\n# It is only meant to represent a direction. Therefore, it does not\\n# make sense to apply a translation to it (e.g., when applying a \\n# generic rigid transformation to a Vector3, tf2 will only apply the\\n# rotation). If you want your data to be translatable too, use the\\n# geometry_msgs/Point message instead.\\n\\nfloat64 x\\nfloat64 y\\nfloat64 z', 'tcp_nodelay': '0', 'topic': '/correction', 'type': 'geometry_msgs/Twist'}\n",
      "[WARN] [1649116348.170346]: Could not process inbound connection: topic types do not match: [geometry_msgs/Twist] vs. [std_msgs/Float64MultiArray]{'callerid': '/ros_uli_wrapper', 'md5sum': '9f195f881246fdfa2798d1d3eebca84a', 'message_definition': '# This expresses velocity in free space broken into its linear and angular parts.\\nVector3  linear\\nVector3  angular\\n\\n================================================================================\\nMSG: geometry_msgs/Vector3\\n# This represents a vector in free space. \\n# It is only meant to represent a direction. Therefore, it does not\\n# make sense to apply a translation to it (e.g., when applying a \\n# generic rigid transformation to a Vector3, tf2 will only apply the\\n# rotation). If you want your data to be translatable too, use the\\n# geometry_msgs/Point message instead.\\n\\nfloat64 x\\nfloat64 y\\nfloat64 z', 'tcp_nodelay': '0', 'topic': '/correction', 'type': 'geometry_msgs/Twist'}\n",
      "[WARN] [1649116380.203371]: Could not process inbound connection: topic types do not match: [geometry_msgs/Twist] vs. [std_msgs/Float64MultiArray]{'callerid': '/ros_uli_wrapper', 'md5sum': '9f195f881246fdfa2798d1d3eebca84a', 'message_definition': '# This expresses velocity in free space broken into its linear and angular parts.\\nVector3  linear\\nVector3  angular\\n\\n================================================================================\\nMSG: geometry_msgs/Vector3\\n# This represents a vector in free space. \\n# It is only meant to represent a direction. Therefore, it does not\\n# make sense to apply a translation to it (e.g., when applying a \\n# generic rigid transformation to a Vector3, tf2 will only apply the\\n# rotation). If you want your data to be translatable too, use the\\n# geometry_msgs/Point message instead.\\n\\nfloat64 x\\nfloat64 y\\nfloat64 z', 'tcp_nodelay': '0', 'topic': '/correction', 'type': 'geometry_msgs/Twist'}\n",
      "[WARN] [1649116412.236439]: Could not process inbound connection: topic types do not match: [geometry_msgs/Twist] vs. [std_msgs/Float64MultiArray]{'callerid': '/ros_uli_wrapper', 'md5sum': '9f195f881246fdfa2798d1d3eebca84a', 'message_definition': '# This expresses velocity in free space broken into its linear and angular parts.\\nVector3  linear\\nVector3  angular\\n\\n================================================================================\\nMSG: geometry_msgs/Vector3\\n# This represents a vector in free space. \\n# It is only meant to represent a direction. Therefore, it does not\\n# make sense to apply a translation to it (e.g., when applying a \\n# generic rigid transformation to a Vector3, tf2 will only apply the\\n# rotation). If you want your data to be translatable too, use the\\n# geometry_msgs/Point message instead.\\n\\nfloat64 x\\nfloat64 y\\nfloat64 z', 'tcp_nodelay': '0', 'topic': '/correction', 'type': 'geometry_msgs/Twist'}\n",
      "[WARN] [1649116444.269766]: Could not process inbound connection: topic types do not match: [geometry_msgs/Twist] vs. [std_msgs/Float64MultiArray]{'callerid': '/ros_uli_wrapper', 'md5sum': '9f195f881246fdfa2798d1d3eebca84a', 'message_definition': '# This expresses velocity in free space broken into its linear and angular parts.\\nVector3  linear\\nVector3  angular\\n\\n================================================================================\\nMSG: geometry_msgs/Vector3\\n# This represents a vector in free space. \\n# It is only meant to represent a direction. Therefore, it does not\\n# make sense to apply a translation to it (e.g., when applying a \\n# generic rigid transformation to a Vector3, tf2 will only apply the\\n# rotation). If you want your data to be translatable too, use the\\n# geometry_msgs/Point message instead.\\n\\nfloat64 x\\nfloat64 y\\nfloat64 z', 'tcp_nodelay': '0', 'topic': '/correction', 'type': 'geometry_msgs/Twist'}\n",
      "[WARN] [1649116476.302297]: Could not process inbound connection: topic types do not match: [geometry_msgs/Twist] vs. [std_msgs/Float64MultiArray]{'callerid': '/ros_uli_wrapper', 'md5sum': '9f195f881246fdfa2798d1d3eebca84a', 'message_definition': '# This expresses velocity in free space broken into its linear and angular parts.\\nVector3  linear\\nVector3  angular\\n\\n================================================================================\\nMSG: geometry_msgs/Vector3\\n# This represents a vector in free space. \\n# It is only meant to represent a direction. Therefore, it does not\\n# make sense to apply a translation to it (e.g., when applying a \\n# generic rigid transformation to a Vector3, tf2 will only apply the\\n# rotation). If you want your data to be translatable too, use the\\n# geometry_msgs/Point message instead.\\n\\nfloat64 x\\nfloat64 y\\nfloat64 z', 'tcp_nodelay': '0', 'topic': '/correction', 'type': 'geometry_msgs/Twist'}\n",
      "[WARN] [1649116508.335481]: Could not process inbound connection: topic types do not match: [geometry_msgs/Twist] vs. [std_msgs/Float64MultiArray]{'callerid': '/ros_uli_wrapper', 'md5sum': '9f195f881246fdfa2798d1d3eebca84a', 'message_definition': '# This expresses velocity in free space broken into its linear and angular parts.\\nVector3  linear\\nVector3  angular\\n\\n================================================================================\\nMSG: geometry_msgs/Vector3\\n# This represents a vector in free space. \\n# It is only meant to represent a direction. Therefore, it does not\\n# make sense to apply a translation to it (e.g., when applying a \\n# generic rigid transformation to a Vector3, tf2 will only apply the\\n# rotation). If you want your data to be translatable too, use the\\n# geometry_msgs/Point message instead.\\n\\nfloat64 x\\nfloat64 y\\nfloat64 z', 'tcp_nodelay': '0', 'topic': '/correction', 'type': 'geometry_msgs/Twist'}\n"
     ]
    },
    {
     "name": "stderr",
     "output_type": "stream",
     "text": [
      "[WARN] [1649116540.369963]: Could not process inbound connection: topic types do not match: [geometry_msgs/Twist] vs. [std_msgs/Float64MultiArray]{'callerid': '/ros_uli_wrapper', 'md5sum': '9f195f881246fdfa2798d1d3eebca84a', 'message_definition': '# This expresses velocity in free space broken into its linear and angular parts.\\nVector3  linear\\nVector3  angular\\n\\n================================================================================\\nMSG: geometry_msgs/Vector3\\n# This represents a vector in free space. \\n# It is only meant to represent a direction. Therefore, it does not\\n# make sense to apply a translation to it (e.g., when applying a \\n# generic rigid transformation to a Vector3, tf2 will only apply the\\n# rotation). If you want your data to be translatable too, use the\\n# geometry_msgs/Point message instead.\\n\\nfloat64 x\\nfloat64 y\\nfloat64 z', 'tcp_nodelay': '0', 'topic': '/correction', 'type': 'geometry_msgs/Twist'}\n",
      "[WARN] [1649116573.563069]: Could not process inbound connection: topic types do not match: [geometry_msgs/Twist] vs. [std_msgs/Float64MultiArray]{'callerid': '/ros_uli_wrapper', 'md5sum': '9f195f881246fdfa2798d1d3eebca84a', 'message_definition': '# This expresses velocity in free space broken into its linear and angular parts.\\nVector3  linear\\nVector3  angular\\n\\n================================================================================\\nMSG: geometry_msgs/Vector3\\n# This represents a vector in free space. \\n# It is only meant to represent a direction. Therefore, it does not\\n# make sense to apply a translation to it (e.g., when applying a \\n# generic rigid transformation to a Vector3, tf2 will only apply the\\n# rotation). If you want your data to be translatable too, use the\\n# geometry_msgs/Point message instead.\\n\\nfloat64 x\\nfloat64 y\\nfloat64 z', 'tcp_nodelay': '0', 'topic': '/correction', 'type': 'geometry_msgs/Twist'}\n",
      "[WARN] [1649116574.570179]: Could not process inbound connection: topic types do not match: [geometry_msgs/Twist] vs. [std_msgs/Float64MultiArray]{'callerid': '/ros_uli_wrapper', 'md5sum': '9f195f881246fdfa2798d1d3eebca84a', 'message_definition': '# This expresses velocity in free space broken into its linear and angular parts.\\nVector3  linear\\nVector3  angular\\n\\n================================================================================\\nMSG: geometry_msgs/Vector3\\n# This represents a vector in free space. \\n# It is only meant to represent a direction. Therefore, it does not\\n# make sense to apply a translation to it (e.g., when applying a \\n# generic rigid transformation to a Vector3, tf2 will only apply the\\n# rotation). If you want your data to be translatable too, use the\\n# geometry_msgs/Point message instead.\\n\\nfloat64 x\\nfloat64 y\\nfloat64 z', 'tcp_nodelay': '0', 'topic': '/correction', 'type': 'geometry_msgs/Twist'}\n",
      "[WARN] [1649116575.571642]: Could not process inbound connection: topic types do not match: [geometry_msgs/Twist] vs. [std_msgs/Float64MultiArray]{'callerid': '/ros_uli_wrapper', 'md5sum': '9f195f881246fdfa2798d1d3eebca84a', 'message_definition': '# This expresses velocity in free space broken into its linear and angular parts.\\nVector3  linear\\nVector3  angular\\n\\n================================================================================\\nMSG: geometry_msgs/Vector3\\n# This represents a vector in free space. \\n# It is only meant to represent a direction. Therefore, it does not\\n# make sense to apply a translation to it (e.g., when applying a \\n# generic rigid transformation to a Vector3, tf2 will only apply the\\n# rotation). If you want your data to be translatable too, use the\\n# geometry_msgs/Point message instead.\\n\\nfloat64 x\\nfloat64 y\\nfloat64 z', 'tcp_nodelay': '0', 'topic': '/correction', 'type': 'geometry_msgs/Twist'}\n",
      "[WARN] [1649116577.574677]: Could not process inbound connection: topic types do not match: [geometry_msgs/Twist] vs. [std_msgs/Float64MultiArray]{'callerid': '/ros_uli_wrapper', 'md5sum': '9f195f881246fdfa2798d1d3eebca84a', 'message_definition': '# This expresses velocity in free space broken into its linear and angular parts.\\nVector3  linear\\nVector3  angular\\n\\n================================================================================\\nMSG: geometry_msgs/Vector3\\n# This represents a vector in free space. \\n# It is only meant to represent a direction. Therefore, it does not\\n# make sense to apply a translation to it (e.g., when applying a \\n# generic rigid transformation to a Vector3, tf2 will only apply the\\n# rotation). If you want your data to be translatable too, use the\\n# geometry_msgs/Point message instead.\\n\\nfloat64 x\\nfloat64 y\\nfloat64 z', 'tcp_nodelay': '0', 'topic': '/correction', 'type': 'geometry_msgs/Twist'}\n",
      "[WARN] [1649116581.579249]: Could not process inbound connection: topic types do not match: [geometry_msgs/Twist] vs. [std_msgs/Float64MultiArray]{'callerid': '/ros_uli_wrapper', 'md5sum': '9f195f881246fdfa2798d1d3eebca84a', 'message_definition': '# This expresses velocity in free space broken into its linear and angular parts.\\nVector3  linear\\nVector3  angular\\n\\n================================================================================\\nMSG: geometry_msgs/Vector3\\n# This represents a vector in free space. \\n# It is only meant to represent a direction. Therefore, it does not\\n# make sense to apply a translation to it (e.g., when applying a \\n# generic rigid transformation to a Vector3, tf2 will only apply the\\n# rotation). If you want your data to be translatable too, use the\\n# geometry_msgs/Point message instead.\\n\\nfloat64 x\\nfloat64 y\\nfloat64 z', 'tcp_nodelay': '0', 'topic': '/correction', 'type': 'geometry_msgs/Twist'}\n",
      "[WARN] [1649116589.589645]: Could not process inbound connection: topic types do not match: [geometry_msgs/Twist] vs. [std_msgs/Float64MultiArray]{'callerid': '/ros_uli_wrapper', 'md5sum': '9f195f881246fdfa2798d1d3eebca84a', 'message_definition': '# This expresses velocity in free space broken into its linear and angular parts.\\nVector3  linear\\nVector3  angular\\n\\n================================================================================\\nMSG: geometry_msgs/Vector3\\n# This represents a vector in free space. \\n# It is only meant to represent a direction. Therefore, it does not\\n# make sense to apply a translation to it (e.g., when applying a \\n# generic rigid transformation to a Vector3, tf2 will only apply the\\n# rotation). If you want your data to be translatable too, use the\\n# geometry_msgs/Point message instead.\\n\\nfloat64 x\\nfloat64 y\\nfloat64 z', 'tcp_nodelay': '0', 'topic': '/correction', 'type': 'geometry_msgs/Twist'}\n",
      "[WARN] [1649116605.606093]: Could not process inbound connection: topic types do not match: [geometry_msgs/Twist] vs. [std_msgs/Float64MultiArray]{'callerid': '/ros_uli_wrapper', 'md5sum': '9f195f881246fdfa2798d1d3eebca84a', 'message_definition': '# This expresses velocity in free space broken into its linear and angular parts.\\nVector3  linear\\nVector3  angular\\n\\n================================================================================\\nMSG: geometry_msgs/Vector3\\n# This represents a vector in free space. \\n# It is only meant to represent a direction. Therefore, it does not\\n# make sense to apply a translation to it (e.g., when applying a \\n# generic rigid transformation to a Vector3, tf2 will only apply the\\n# rotation). If you want your data to be translatable too, use the\\n# geometry_msgs/Point message instead.\\n\\nfloat64 x\\nfloat64 y\\nfloat64 z', 'tcp_nodelay': '0', 'topic': '/correction', 'type': 'geometry_msgs/Twist'}\n",
      "[WARN] [1649116637.638416]: Could not process inbound connection: topic types do not match: [geometry_msgs/Twist] vs. [std_msgs/Float64MultiArray]{'callerid': '/ros_uli_wrapper', 'md5sum': '9f195f881246fdfa2798d1d3eebca84a', 'message_definition': '# This expresses velocity in free space broken into its linear and angular parts.\\nVector3  linear\\nVector3  angular\\n\\n================================================================================\\nMSG: geometry_msgs/Vector3\\n# This represents a vector in free space. \\n# It is only meant to represent a direction. Therefore, it does not\\n# make sense to apply a translation to it (e.g., when applying a \\n# generic rigid transformation to a Vector3, tf2 will only apply the\\n# rotation). If you want your data to be translatable too, use the\\n# geometry_msgs/Point message instead.\\n\\nfloat64 x\\nfloat64 y\\nfloat64 z', 'tcp_nodelay': '0', 'topic': '/correction', 'type': 'geometry_msgs/Twist'}\n"
     ]
    },
    {
     "name": "stderr",
     "output_type": "stream",
     "text": [
      "[WARN] [1649116912.500609]: Could not process inbound connection: topic types do not match: [geometry_msgs/Twist] vs. [std_msgs/Float64MultiArray]{'callerid': '/ros_uli_wrapper', 'md5sum': '9f195f881246fdfa2798d1d3eebca84a', 'message_definition': '# This expresses velocity in free space broken into its linear and angular parts.\\nVector3  linear\\nVector3  angular\\n\\n================================================================================\\nMSG: geometry_msgs/Vector3\\n# This represents a vector in free space. \\n# It is only meant to represent a direction. Therefore, it does not\\n# make sense to apply a translation to it (e.g., when applying a \\n# generic rigid transformation to a Vector3, tf2 will only apply the\\n# rotation). If you want your data to be translatable too, use the\\n# geometry_msgs/Point message instead.\\n\\nfloat64 x\\nfloat64 y\\nfloat64 z', 'tcp_nodelay': '0', 'topic': '/correction', 'type': 'geometry_msgs/Twist'}\n",
      "[WARN] [1649116913.505714]: Could not process inbound connection: topic types do not match: [geometry_msgs/Twist] vs. [std_msgs/Float64MultiArray]{'callerid': '/ros_uli_wrapper', 'md5sum': '9f195f881246fdfa2798d1d3eebca84a', 'message_definition': '# This expresses velocity in free space broken into its linear and angular parts.\\nVector3  linear\\nVector3  angular\\n\\n================================================================================\\nMSG: geometry_msgs/Vector3\\n# This represents a vector in free space. \\n# It is only meant to represent a direction. Therefore, it does not\\n# make sense to apply a translation to it (e.g., when applying a \\n# generic rigid transformation to a Vector3, tf2 will only apply the\\n# rotation). If you want your data to be translatable too, use the\\n# geometry_msgs/Point message instead.\\n\\nfloat64 x\\nfloat64 y\\nfloat64 z', 'tcp_nodelay': '0', 'topic': '/correction', 'type': 'geometry_msgs/Twist'}\n",
      "[WARN] [1649116914.507795]: Could not process inbound connection: topic types do not match: [geometry_msgs/Twist] vs. [std_msgs/Float64MultiArray]{'callerid': '/ros_uli_wrapper', 'md5sum': '9f195f881246fdfa2798d1d3eebca84a', 'message_definition': '# This expresses velocity in free space broken into its linear and angular parts.\\nVector3  linear\\nVector3  angular\\n\\n================================================================================\\nMSG: geometry_msgs/Vector3\\n# This represents a vector in free space. \\n# It is only meant to represent a direction. Therefore, it does not\\n# make sense to apply a translation to it (e.g., when applying a \\n# generic rigid transformation to a Vector3, tf2 will only apply the\\n# rotation). If you want your data to be translatable too, use the\\n# geometry_msgs/Point message instead.\\n\\nfloat64 x\\nfloat64 y\\nfloat64 z', 'tcp_nodelay': '0', 'topic': '/correction', 'type': 'geometry_msgs/Twist'}\n",
      "[WARN] [1649116916.511400]: Could not process inbound connection: topic types do not match: [geometry_msgs/Twist] vs. [std_msgs/Float64MultiArray]{'callerid': '/ros_uli_wrapper', 'md5sum': '9f195f881246fdfa2798d1d3eebca84a', 'message_definition': '# This expresses velocity in free space broken into its linear and angular parts.\\nVector3  linear\\nVector3  angular\\n\\n================================================================================\\nMSG: geometry_msgs/Vector3\\n# This represents a vector in free space. \\n# It is only meant to represent a direction. Therefore, it does not\\n# make sense to apply a translation to it (e.g., when applying a \\n# generic rigid transformation to a Vector3, tf2 will only apply the\\n# rotation). If you want your data to be translatable too, use the\\n# geometry_msgs/Point message instead.\\n\\nfloat64 x\\nfloat64 y\\nfloat64 z', 'tcp_nodelay': '0', 'topic': '/correction', 'type': 'geometry_msgs/Twist'}\n",
      "[WARN] [1649116920.517698]: Could not process inbound connection: topic types do not match: [geometry_msgs/Twist] vs. [std_msgs/Float64MultiArray]{'callerid': '/ros_uli_wrapper', 'md5sum': '9f195f881246fdfa2798d1d3eebca84a', 'message_definition': '# This expresses velocity in free space broken into its linear and angular parts.\\nVector3  linear\\nVector3  angular\\n\\n================================================================================\\nMSG: geometry_msgs/Vector3\\n# This represents a vector in free space. \\n# It is only meant to represent a direction. Therefore, it does not\\n# make sense to apply a translation to it (e.g., when applying a \\n# generic rigid transformation to a Vector3, tf2 will only apply the\\n# rotation). If you want your data to be translatable too, use the\\n# geometry_msgs/Point message instead.\\n\\nfloat64 x\\nfloat64 y\\nfloat64 z', 'tcp_nodelay': '0', 'topic': '/correction', 'type': 'geometry_msgs/Twist'}\n",
      "[WARN] [1649116928.529673]: Could not process inbound connection: topic types do not match: [geometry_msgs/Twist] vs. [std_msgs/Float64MultiArray]{'callerid': '/ros_uli_wrapper', 'md5sum': '9f195f881246fdfa2798d1d3eebca84a', 'message_definition': '# This expresses velocity in free space broken into its linear and angular parts.\\nVector3  linear\\nVector3  angular\\n\\n================================================================================\\nMSG: geometry_msgs/Vector3\\n# This represents a vector in free space. \\n# It is only meant to represent a direction. Therefore, it does not\\n# make sense to apply a translation to it (e.g., when applying a \\n# generic rigid transformation to a Vector3, tf2 will only apply the\\n# rotation). If you want your data to be translatable too, use the\\n# geometry_msgs/Point message instead.\\n\\nfloat64 x\\nfloat64 y\\nfloat64 z', 'tcp_nodelay': '0', 'topic': '/correction', 'type': 'geometry_msgs/Twist'}\n",
      "[WARN] [1649116944.552207]: Could not process inbound connection: topic types do not match: [geometry_msgs/Twist] vs. [std_msgs/Float64MultiArray]{'callerid': '/ros_uli_wrapper', 'md5sum': '9f195f881246fdfa2798d1d3eebca84a', 'message_definition': '# This expresses velocity in free space broken into its linear and angular parts.\\nVector3  linear\\nVector3  angular\\n\\n================================================================================\\nMSG: geometry_msgs/Vector3\\n# This represents a vector in free space. \\n# It is only meant to represent a direction. Therefore, it does not\\n# make sense to apply a translation to it (e.g., when applying a \\n# generic rigid transformation to a Vector3, tf2 will only apply the\\n# rotation). If you want your data to be translatable too, use the\\n# geometry_msgs/Point message instead.\\n\\nfloat64 x\\nfloat64 y\\nfloat64 z', 'tcp_nodelay': '0', 'topic': '/correction', 'type': 'geometry_msgs/Twist'}\n",
      "[WARN] [1649116976.580300]: Could not process inbound connection: topic types do not match: [geometry_msgs/Twist] vs. [std_msgs/Float64MultiArray]{'callerid': '/ros_uli_wrapper', 'md5sum': '9f195f881246fdfa2798d1d3eebca84a', 'message_definition': '# This expresses velocity in free space broken into its linear and angular parts.\\nVector3  linear\\nVector3  angular\\n\\n================================================================================\\nMSG: geometry_msgs/Vector3\\n# This represents a vector in free space. \\n# It is only meant to represent a direction. Therefore, it does not\\n# make sense to apply a translation to it (e.g., when applying a \\n# generic rigid transformation to a Vector3, tf2 will only apply the\\n# rotation). If you want your data to be translatable too, use the\\n# geometry_msgs/Point message instead.\\n\\nfloat64 x\\nfloat64 y\\nfloat64 z', 'tcp_nodelay': '0', 'topic': '/correction', 'type': 'geometry_msgs/Twist'}\n",
      "[WARN] [1649117008.613160]: Could not process inbound connection: topic types do not match: [geometry_msgs/Twist] vs. [std_msgs/Float64MultiArray]{'callerid': '/ros_uli_wrapper', 'md5sum': '9f195f881246fdfa2798d1d3eebca84a', 'message_definition': '# This expresses velocity in free space broken into its linear and angular parts.\\nVector3  linear\\nVector3  angular\\n\\n================================================================================\\nMSG: geometry_msgs/Vector3\\n# This represents a vector in free space. \\n# It is only meant to represent a direction. Therefore, it does not\\n# make sense to apply a translation to it (e.g., when applying a \\n# generic rigid transformation to a Vector3, tf2 will only apply the\\n# rotation). If you want your data to be translatable too, use the\\n# geometry_msgs/Point message instead.\\n\\nfloat64 x\\nfloat64 y\\nfloat64 z', 'tcp_nodelay': '0', 'topic': '/correction', 'type': 'geometry_msgs/Twist'}\n"
     ]
    },
    {
     "name": "stderr",
     "output_type": "stream",
     "text": [
      "[WARN] [1649117040.646159]: Could not process inbound connection: topic types do not match: [geometry_msgs/Twist] vs. [std_msgs/Float64MultiArray]{'callerid': '/ros_uli_wrapper', 'md5sum': '9f195f881246fdfa2798d1d3eebca84a', 'message_definition': '# This expresses velocity in free space broken into its linear and angular parts.\\nVector3  linear\\nVector3  angular\\n\\n================================================================================\\nMSG: geometry_msgs/Vector3\\n# This represents a vector in free space. \\n# It is only meant to represent a direction. Therefore, it does not\\n# make sense to apply a translation to it (e.g., when applying a \\n# generic rigid transformation to a Vector3, tf2 will only apply the\\n# rotation). If you want your data to be translatable too, use the\\n# geometry_msgs/Point message instead.\\n\\nfloat64 x\\nfloat64 y\\nfloat64 z', 'tcp_nodelay': '0', 'topic': '/correction', 'type': 'geometry_msgs/Twist'}\n",
      "[WARN] [1649117072.679093]: Could not process inbound connection: topic types do not match: [geometry_msgs/Twist] vs. [std_msgs/Float64MultiArray]{'callerid': '/ros_uli_wrapper', 'md5sum': '9f195f881246fdfa2798d1d3eebca84a', 'message_definition': '# This expresses velocity in free space broken into its linear and angular parts.\\nVector3  linear\\nVector3  angular\\n\\n================================================================================\\nMSG: geometry_msgs/Vector3\\n# This represents a vector in free space. \\n# It is only meant to represent a direction. Therefore, it does not\\n# make sense to apply a translation to it (e.g., when applying a \\n# generic rigid transformation to a Vector3, tf2 will only apply the\\n# rotation). If you want your data to be translatable too, use the\\n# geometry_msgs/Point message instead.\\n\\nfloat64 x\\nfloat64 y\\nfloat64 z', 'tcp_nodelay': '0', 'topic': '/correction', 'type': 'geometry_msgs/Twist'}\n",
      "[WARN] [1649117095.105767]: Could not process inbound connection: topic types do not match: [geometry_msgs/Twist] vs. [std_msgs/Float64MultiArray]{'callerid': '/ros_uli_wrapper', 'md5sum': '9f195f881246fdfa2798d1d3eebca84a', 'message_definition': '# This expresses velocity in free space broken into its linear and angular parts.\\nVector3  linear\\nVector3  angular\\n\\n================================================================================\\nMSG: geometry_msgs/Vector3\\n# This represents a vector in free space. \\n# It is only meant to represent a direction. Therefore, it does not\\n# make sense to apply a translation to it (e.g., when applying a \\n# generic rigid transformation to a Vector3, tf2 will only apply the\\n# rotation). If you want your data to be translatable too, use the\\n# geometry_msgs/Point message instead.\\n\\nfloat64 x\\nfloat64 y\\nfloat64 z', 'tcp_nodelay': '0', 'topic': '/correction', 'type': 'geometry_msgs/Twist'}\n",
      "[WARN] [1649117096.109861]: Could not process inbound connection: topic types do not match: [geometry_msgs/Twist] vs. [std_msgs/Float64MultiArray]{'callerid': '/ros_uli_wrapper', 'md5sum': '9f195f881246fdfa2798d1d3eebca84a', 'message_definition': '# This expresses velocity in free space broken into its linear and angular parts.\\nVector3  linear\\nVector3  angular\\n\\n================================================================================\\nMSG: geometry_msgs/Vector3\\n# This represents a vector in free space. \\n# It is only meant to represent a direction. Therefore, it does not\\n# make sense to apply a translation to it (e.g., when applying a \\n# generic rigid transformation to a Vector3, tf2 will only apply the\\n# rotation). If you want your data to be translatable too, use the\\n# geometry_msgs/Point message instead.\\n\\nfloat64 x\\nfloat64 y\\nfloat64 z', 'tcp_nodelay': '0', 'topic': '/correction', 'type': 'geometry_msgs/Twist'}\n",
      "[WARN] [1649117097.113595]: Could not process inbound connection: topic types do not match: [geometry_msgs/Twist] vs. [std_msgs/Float64MultiArray]{'callerid': '/ros_uli_wrapper', 'md5sum': '9f195f881246fdfa2798d1d3eebca84a', 'message_definition': '# This expresses velocity in free space broken into its linear and angular parts.\\nVector3  linear\\nVector3  angular\\n\\n================================================================================\\nMSG: geometry_msgs/Vector3\\n# This represents a vector in free space. \\n# It is only meant to represent a direction. Therefore, it does not\\n# make sense to apply a translation to it (e.g., when applying a \\n# generic rigid transformation to a Vector3, tf2 will only apply the\\n# rotation). If you want your data to be translatable too, use the\\n# geometry_msgs/Point message instead.\\n\\nfloat64 x\\nfloat64 y\\nfloat64 z', 'tcp_nodelay': '0', 'topic': '/correction', 'type': 'geometry_msgs/Twist'}\n",
      "[WARN] [1649117099.117847]: Could not process inbound connection: topic types do not match: [geometry_msgs/Twist] vs. [std_msgs/Float64MultiArray]{'callerid': '/ros_uli_wrapper', 'md5sum': '9f195f881246fdfa2798d1d3eebca84a', 'message_definition': '# This expresses velocity in free space broken into its linear and angular parts.\\nVector3  linear\\nVector3  angular\\n\\n================================================================================\\nMSG: geometry_msgs/Vector3\\n# This represents a vector in free space. \\n# It is only meant to represent a direction. Therefore, it does not\\n# make sense to apply a translation to it (e.g., when applying a \\n# generic rigid transformation to a Vector3, tf2 will only apply the\\n# rotation). If you want your data to be translatable too, use the\\n# geometry_msgs/Point message instead.\\n\\nfloat64 x\\nfloat64 y\\nfloat64 z', 'tcp_nodelay': '0', 'topic': '/correction', 'type': 'geometry_msgs/Twist'}\n",
      "[WARN] [1649117103.130489]: Could not process inbound connection: topic types do not match: [geometry_msgs/Twist] vs. [std_msgs/Float64MultiArray]{'callerid': '/ros_uli_wrapper', 'md5sum': '9f195f881246fdfa2798d1d3eebca84a', 'message_definition': '# This expresses velocity in free space broken into its linear and angular parts.\\nVector3  linear\\nVector3  angular\\n\\n================================================================================\\nMSG: geometry_msgs/Vector3\\n# This represents a vector in free space. \\n# It is only meant to represent a direction. Therefore, it does not\\n# make sense to apply a translation to it (e.g., when applying a \\n# generic rigid transformation to a Vector3, tf2 will only apply the\\n# rotation). If you want your data to be translatable too, use the\\n# geometry_msgs/Point message instead.\\n\\nfloat64 x\\nfloat64 y\\nfloat64 z', 'tcp_nodelay': '0', 'topic': '/correction', 'type': 'geometry_msgs/Twist'}\n",
      "[WARN] [1649117111.134603]: Could not process inbound connection: topic types do not match: [geometry_msgs/Twist] vs. [std_msgs/Float64MultiArray]{'callerid': '/ros_uli_wrapper', 'md5sum': '9f195f881246fdfa2798d1d3eebca84a', 'message_definition': '# This expresses velocity in free space broken into its linear and angular parts.\\nVector3  linear\\nVector3  angular\\n\\n================================================================================\\nMSG: geometry_msgs/Vector3\\n# This represents a vector in free space. \\n# It is only meant to represent a direction. Therefore, it does not\\n# make sense to apply a translation to it (e.g., when applying a \\n# generic rigid transformation to a Vector3, tf2 will only apply the\\n# rotation). If you want your data to be translatable too, use the\\n# geometry_msgs/Point message instead.\\n\\nfloat64 x\\nfloat64 y\\nfloat64 z', 'tcp_nodelay': '0', 'topic': '/correction', 'type': 'geometry_msgs/Twist'}\n",
      "[WARN] [1649117127.151427]: Could not process inbound connection: topic types do not match: [geometry_msgs/Twist] vs. [std_msgs/Float64MultiArray]{'callerid': '/ros_uli_wrapper', 'md5sum': '9f195f881246fdfa2798d1d3eebca84a', 'message_definition': '# This expresses velocity in free space broken into its linear and angular parts.\\nVector3  linear\\nVector3  angular\\n\\n================================================================================\\nMSG: geometry_msgs/Vector3\\n# This represents a vector in free space. \\n# It is only meant to represent a direction. Therefore, it does not\\n# make sense to apply a translation to it (e.g., when applying a \\n# generic rigid transformation to a Vector3, tf2 will only apply the\\n# rotation). If you want your data to be translatable too, use the\\n# geometry_msgs/Point message instead.\\n\\nfloat64 x\\nfloat64 y\\nfloat64 z', 'tcp_nodelay': '0', 'topic': '/correction', 'type': 'geometry_msgs/Twist'}\n"
     ]
    },
    {
     "name": "stderr",
     "output_type": "stream",
     "text": [
      "[WARN] [1649117159.187044]: Could not process inbound connection: topic types do not match: [geometry_msgs/Twist] vs. [std_msgs/Float64MultiArray]{'callerid': '/ros_uli_wrapper', 'md5sum': '9f195f881246fdfa2798d1d3eebca84a', 'message_definition': '# This expresses velocity in free space broken into its linear and angular parts.\\nVector3  linear\\nVector3  angular\\n\\n================================================================================\\nMSG: geometry_msgs/Vector3\\n# This represents a vector in free space. \\n# It is only meant to represent a direction. Therefore, it does not\\n# make sense to apply a translation to it (e.g., when applying a \\n# generic rigid transformation to a Vector3, tf2 will only apply the\\n# rotation). If you want your data to be translatable too, use the\\n# geometry_msgs/Point message instead.\\n\\nfloat64 x\\nfloat64 y\\nfloat64 z', 'tcp_nodelay': '0', 'topic': '/correction', 'type': 'geometry_msgs/Twist'}\n",
      "[WARN] [1649117334.313701]: Could not process inbound connection: topic types do not match: [geometry_msgs/Twist] vs. [std_msgs/Float64MultiArray]{'callerid': '/ros_uli_wrapper', 'md5sum': '9f195f881246fdfa2798d1d3eebca84a', 'message_definition': '# This expresses velocity in free space broken into its linear and angular parts.\\nVector3  linear\\nVector3  angular\\n\\n================================================================================\\nMSG: geometry_msgs/Vector3\\n# This represents a vector in free space. \\n# It is only meant to represent a direction. Therefore, it does not\\n# make sense to apply a translation to it (e.g., when applying a \\n# generic rigid transformation to a Vector3, tf2 will only apply the\\n# rotation). If you want your data to be translatable too, use the\\n# geometry_msgs/Point message instead.\\n\\nfloat64 x\\nfloat64 y\\nfloat64 z', 'tcp_nodelay': '0', 'topic': '/correction', 'type': 'geometry_msgs/Twist'}\n",
      "[WARN] [1649117335.330733]: Could not process inbound connection: topic types do not match: [geometry_msgs/Twist] vs. [std_msgs/Float64MultiArray]{'callerid': '/ros_uli_wrapper', 'md5sum': '9f195f881246fdfa2798d1d3eebca84a', 'message_definition': '# This expresses velocity in free space broken into its linear and angular parts.\\nVector3  linear\\nVector3  angular\\n\\n================================================================================\\nMSG: geometry_msgs/Vector3\\n# This represents a vector in free space. \\n# It is only meant to represent a direction. Therefore, it does not\\n# make sense to apply a translation to it (e.g., when applying a \\n# generic rigid transformation to a Vector3, tf2 will only apply the\\n# rotation). If you want your data to be translatable too, use the\\n# geometry_msgs/Point message instead.\\n\\nfloat64 x\\nfloat64 y\\nfloat64 z', 'tcp_nodelay': '0', 'topic': '/correction', 'type': 'geometry_msgs/Twist'}\n",
      "[WARN] [1649117336.350972]: Could not process inbound connection: topic types do not match: [geometry_msgs/Twist] vs. [std_msgs/Float64MultiArray]{'callerid': '/ros_uli_wrapper', 'md5sum': '9f195f881246fdfa2798d1d3eebca84a', 'message_definition': '# This expresses velocity in free space broken into its linear and angular parts.\\nVector3  linear\\nVector3  angular\\n\\n================================================================================\\nMSG: geometry_msgs/Vector3\\n# This represents a vector in free space. \\n# It is only meant to represent a direction. Therefore, it does not\\n# make sense to apply a translation to it (e.g., when applying a \\n# generic rigid transformation to a Vector3, tf2 will only apply the\\n# rotation). If you want your data to be translatable too, use the\\n# geometry_msgs/Point message instead.\\n\\nfloat64 x\\nfloat64 y\\nfloat64 z', 'tcp_nodelay': '0', 'topic': '/correction', 'type': 'geometry_msgs/Twist'}\n",
      "[WARN] [1649117338.354659]: Could not process inbound connection: topic types do not match: [geometry_msgs/Twist] vs. [std_msgs/Float64MultiArray]{'callerid': '/ros_uli_wrapper', 'md5sum': '9f195f881246fdfa2798d1d3eebca84a', 'message_definition': '# This expresses velocity in free space broken into its linear and angular parts.\\nVector3  linear\\nVector3  angular\\n\\n================================================================================\\nMSG: geometry_msgs/Vector3\\n# This represents a vector in free space. \\n# It is only meant to represent a direction. Therefore, it does not\\n# make sense to apply a translation to it (e.g., when applying a \\n# generic rigid transformation to a Vector3, tf2 will only apply the\\n# rotation). If you want your data to be translatable too, use the\\n# geometry_msgs/Point message instead.\\n\\nfloat64 x\\nfloat64 y\\nfloat64 z', 'tcp_nodelay': '0', 'topic': '/correction', 'type': 'geometry_msgs/Twist'}\n",
      "[WARN] [1649117342.359259]: Could not process inbound connection: topic types do not match: [geometry_msgs/Twist] vs. [std_msgs/Float64MultiArray]{'callerid': '/ros_uli_wrapper', 'md5sum': '9f195f881246fdfa2798d1d3eebca84a', 'message_definition': '# This expresses velocity in free space broken into its linear and angular parts.\\nVector3  linear\\nVector3  angular\\n\\n================================================================================\\nMSG: geometry_msgs/Vector3\\n# This represents a vector in free space. \\n# It is only meant to represent a direction. Therefore, it does not\\n# make sense to apply a translation to it (e.g., when applying a \\n# generic rigid transformation to a Vector3, tf2 will only apply the\\n# rotation). If you want your data to be translatable too, use the\\n# geometry_msgs/Point message instead.\\n\\nfloat64 x\\nfloat64 y\\nfloat64 z', 'tcp_nodelay': '0', 'topic': '/correction', 'type': 'geometry_msgs/Twist'}\n",
      "[WARN] [1649117350.368468]: Could not process inbound connection: topic types do not match: [geometry_msgs/Twist] vs. [std_msgs/Float64MultiArray]{'callerid': '/ros_uli_wrapper', 'md5sum': '9f195f881246fdfa2798d1d3eebca84a', 'message_definition': '# This expresses velocity in free space broken into its linear and angular parts.\\nVector3  linear\\nVector3  angular\\n\\n================================================================================\\nMSG: geometry_msgs/Vector3\\n# This represents a vector in free space. \\n# It is only meant to represent a direction. Therefore, it does not\\n# make sense to apply a translation to it (e.g., when applying a \\n# generic rigid transformation to a Vector3, tf2 will only apply the\\n# rotation). If you want your data to be translatable too, use the\\n# geometry_msgs/Point message instead.\\n\\nfloat64 x\\nfloat64 y\\nfloat64 z', 'tcp_nodelay': '0', 'topic': '/correction', 'type': 'geometry_msgs/Twist'}\n",
      "[WARN] [1649117366.410582]: Could not process inbound connection: topic types do not match: [geometry_msgs/Twist] vs. [std_msgs/Float64MultiArray]{'callerid': '/ros_uli_wrapper', 'md5sum': '9f195f881246fdfa2798d1d3eebca84a', 'message_definition': '# This expresses velocity in free space broken into its linear and angular parts.\\nVector3  linear\\nVector3  angular\\n\\n================================================================================\\nMSG: geometry_msgs/Vector3\\n# This represents a vector in free space. \\n# It is only meant to represent a direction. Therefore, it does not\\n# make sense to apply a translation to it (e.g., when applying a \\n# generic rigid transformation to a Vector3, tf2 will only apply the\\n# rotation). If you want your data to be translatable too, use the\\n# geometry_msgs/Point message instead.\\n\\nfloat64 x\\nfloat64 y\\nfloat64 z', 'tcp_nodelay': '0', 'topic': '/correction', 'type': 'geometry_msgs/Twist'}\n",
      "[WARN] [1649117398.485939]: Could not process inbound connection: topic types do not match: [geometry_msgs/Twist] vs. [std_msgs/Float64MultiArray]{'callerid': '/ros_uli_wrapper', 'md5sum': '9f195f881246fdfa2798d1d3eebca84a', 'message_definition': '# This expresses velocity in free space broken into its linear and angular parts.\\nVector3  linear\\nVector3  angular\\n\\n================================================================================\\nMSG: geometry_msgs/Vector3\\n# This represents a vector in free space. \\n# It is only meant to represent a direction. Therefore, it does not\\n# make sense to apply a translation to it (e.g., when applying a \\n# generic rigid transformation to a Vector3, tf2 will only apply the\\n# rotation). If you want your data to be translatable too, use the\\n# geometry_msgs/Point message instead.\\n\\nfloat64 x\\nfloat64 y\\nfloat64 z', 'tcp_nodelay': '0', 'topic': '/correction', 'type': 'geometry_msgs/Twist'}\n"
     ]
    }
   ],
   "source": [
    "# Behavior two: Three passes on the layup2 surface (for testing without running sanding tool)\n",
    "\n",
    "surfaceBSplineFile = '/home/mike/Documents/panda_uli_workspace/src/panda_uli_demo/ULIConfig/registration_models/layup_tool2_surface_demo.csv'\n",
    "surfaceBSpline = BSplineSurface()\n",
    "surfaceBSpline.loadSurface(surfaceBSplineFile)\n",
    "\n",
    "segments = []\n",
    "\n",
    "from scipy.spatial.transform import Rotation as ScipyR\n",
    "ang_relative_to_surface = 10 # degrees\n",
    "R_tool_surf = ScipyR.from_euler('y',ang_relative_to_surface,degrees=True)\n",
    "q_ts = R_tool_surf.as_quat()\n",
    "\n",
    "\n",
    "\n",
    "# Part 1: approach the starting point\n",
    "segment = HybridSegment()\n",
    "segment.hybrid = False\n",
    "segment.num_samples = 100 # 2 seconds\n",
    "segment.state_names = ['x','y','z','qx','qy','qz','qw']\n",
    "\n",
    "approach_pt, n_hat, r_u_norm, r_v_norm = surfaceBSpline.calculate_surface_point(0.2, 0.2)\n",
    "R_surf = ScipyR.from_matrix(np.hstack([r_u_norm.reshape((3,1)), r_v_norm.reshape((3,1)), n_hat.reshape((3,1))]))\n",
    "q_app = (R_surf * R_tool_surf).as_quat()\n",
    "\n",
    "print(\"QAPP: \",q_app)\n",
    "\n",
    "starting = [approach_pt[0], approach_pt[1], approach_pt[2] + 0.05, 0.0, 0.0, 0.0, 1.0]\n",
    "ending = [approach_pt[0], approach_pt[1], approach_pt[2] + 0.0, q_app[0], q_app[1], q_app[2], q_app[3]]\n",
    "orig_vals = interpMultD(starting,ending,segment.num_samples)\n",
    "\n",
    "\n",
    "# number of state variables by number of samples\n",
    "\n",
    "segment.original_vals = []\n",
    "segment.original_vals.append(orig_vals)\n",
    "\n",
    "segments.append(segment)\n",
    "\n",
    "\n",
    "# Part 2: one pass over surface (for now)\n",
    "segment = HybridSegment()\n",
    "segment.hybrid = True\n",
    "segment.surface = surfaceBSpline\n",
    "segment.num_samples = 500 # 4 seconds\n",
    "segment.state_names = ['u','v','f','theta_qx','theta_qy','theta_qz','theta_qw']\n",
    "segment.original_vals = []\n",
    "\n",
    "\n",
    "samps = int(segment.num_samples / 5)\n",
    "waypoint_0 = interpMultD([0.2, 0.2, -5.0, q_ts[0], q_ts[1], q_ts[2], q_ts[3]],[0.8, 0.2, -5.0, q_ts[0], q_ts[1], q_ts[2], q_ts[3]],samps)\n",
    "waypoint_1 = interpMultD([0.8, 0.2, -5.0, q_ts[0], q_ts[1], q_ts[2], q_ts[3]],[0.8, 0.5, -5.0, q_ts[0], q_ts[1], q_ts[2], q_ts[3]],samps)\n",
    "waypoint_2 = interpMultD([0.8, 0.5, -5.0, q_ts[0], q_ts[1], q_ts[2], q_ts[3]],[0.2, 0.5, -5.0, q_ts[0], q_ts[1], q_ts[2], q_ts[3]],samps)\n",
    "waypoint_3 = interpMultD([0.2, 0.5, -5.0, q_ts[0], q_ts[1], q_ts[2], q_ts[3]],[0.2, 0.8, -5.0, q_ts[0], q_ts[1], q_ts[2], q_ts[3]],samps)\n",
    "waypoint_4 = interpMultD([0.2, 0.8, -5.0, q_ts[0], q_ts[1], q_ts[2], q_ts[3]],[0.8, 0.8, -5.0, q_ts[0], q_ts[1], q_ts[2], q_ts[3]],samps)\n",
    "\n",
    "waypoints = np.hstack([waypoint_0,waypoint_1,waypoint_2,waypoint_3,waypoint_4])\n",
    "\n",
    "segment.original_vals.append(waypoints)\n",
    "\n",
    "segments.append(segment)\n",
    "\n",
    "\n",
    "# # Part 3: move away from the surface\n",
    "segment = HybridSegment()\n",
    "segment.hybrid = False\n",
    "segment.num_samples = 100 # 2 seconds\n",
    "segment.state_names = ['x','y','z','qx','qy','qz','qw']\n",
    "segment.original_vals = []\n",
    "\n",
    "retract_pt, n_hat, r_u_norm, r_v_norm = surfaceBSpline.calculate_surface_point(0.8, 0.8)\n",
    "R_surf = ScipyR.from_matrix(np.hstack([r_u_norm.reshape((3,1)), r_v_norm.reshape((3,1)), n_hat.reshape((3,1))]))\n",
    "q_ret = (R_surf * R_tool_surf).as_quat()\n",
    "\n",
    "starting = [retract_pt[0], retract_pt[1], retract_pt[2]+ 0.005, q_ret[0], q_ret[1], q_ret[2], q_ret[3]]\n",
    "ending = [retract_pt[0], retract_pt[1], retract_pt[2] + 0.1, 0.0, 0.0, 0.0, 1.0]\n",
    "orig_vals = interpMultD(starting,ending,segment.num_samples)\n",
    "segment.original_vals.append(orig_vals)\n",
    "\n",
    "segments.append(segment)\n",
    "\n",
    "\n",
    "\n",
    "# from cProfile import Profile\n",
    "# from pstats import Stats\n",
    "\n",
    "# p = Profile()\n",
    "# p.enable()\n",
    "# <stuff>\n",
    "# p.disable()\n",
    "# Stats(p).sort_by('cumtime').print_stats()\n",
    "\n"
   ]
  },
  {
   "cell_type": "code",
   "execution_count": 3,
   "id": "scheduled-reynolds",
   "metadata": {},
   "outputs": [
    {
     "name": "stdout",
     "output_type": "stream",
     "text": [
      "-------------------\n",
      "Model Learning: DMP + LWR Hardcoded\n",
      "-------------------\n",
      "DMP for segment  0  of  2\n",
      "DMP for segment  1  of  2\n",
      "DMP for segment  2  of  2\n",
      "Time to learn model: 10.132977724075317 seconds\n"
     ]
    }
   ],
   "source": [
    "############################\n",
    "# Learn Layup2 model       #\n",
    "############################\n",
    "import rospkg\n",
    "rospack = rospkg.RosPack()\n",
    "config_dir = rospack.get_path('corrective_shared_autonomy')+'/../../ULIConfig/registration_models/'\n",
    "\n",
    "\n",
    "model = DMPLWRhardcoded(verbose=True)\n",
    "learnedSegments = model.learnModel(segments,config_dir+'layup_tool2_surface_demo.pkl') # second argument is the outfile\n"
   ]
  },
  {
   "cell_type": "code",
   "execution_count": 4,
   "id": "cubic-clear",
   "metadata": {},
   "outputs": [
    {
     "name": "stderr",
     "output_type": "stream",
     "text": [
      "[WARN] [1649115455.884446]: Could not process inbound connection: topic types do not match: [geometry_msgs/Twist] vs. [std_msgs/Float64MultiArray]{'callerid': '/ros_uli_wrapper', 'md5sum': '9f195f881246fdfa2798d1d3eebca84a', 'message_definition': '# This expresses velocity in free space broken into its linear and angular parts.\\nVector3  linear\\nVector3  angular\\n\\n================================================================================\\nMSG: geometry_msgs/Vector3\\n# This represents a vector in free space. \\n# It is only meant to represent a direction. Therefore, it does not\\n# make sense to apply a translation to it (e.g., when applying a \\n# generic rigid transformation to a Vector3, tf2 will only apply the\\n# rotation). If you want your data to be translatable too, use the\\n# geometry_msgs/Point message instead.\\n\\nfloat64 x\\nfloat64 y\\nfloat64 z', 'tcp_nodelay': '0', 'topic': '/correction', 'type': 'geometry_msgs/Twist'}\n",
      "[WARN] [1649115456.887201]: Could not process inbound connection: topic types do not match: [geometry_msgs/Twist] vs. [std_msgs/Float64MultiArray]{'callerid': '/ros_uli_wrapper', 'md5sum': '9f195f881246fdfa2798d1d3eebca84a', 'message_definition': '# This expresses velocity in free space broken into its linear and angular parts.\\nVector3  linear\\nVector3  angular\\n\\n================================================================================\\nMSG: geometry_msgs/Vector3\\n# This represents a vector in free space. \\n# It is only meant to represent a direction. Therefore, it does not\\n# make sense to apply a translation to it (e.g., when applying a \\n# generic rigid transformation to a Vector3, tf2 will only apply the\\n# rotation). If you want your data to be translatable too, use the\\n# geometry_msgs/Point message instead.\\n\\nfloat64 x\\nfloat64 y\\nfloat64 z', 'tcp_nodelay': '0', 'topic': '/correction', 'type': 'geometry_msgs/Twist'}\n",
      "[WARN] [1649115457.888126]: Could not process inbound connection: topic types do not match: [geometry_msgs/Twist] vs. [std_msgs/Float64MultiArray]{'callerid': '/ros_uli_wrapper', 'md5sum': '9f195f881246fdfa2798d1d3eebca84a', 'message_definition': '# This expresses velocity in free space broken into its linear and angular parts.\\nVector3  linear\\nVector3  angular\\n\\n================================================================================\\nMSG: geometry_msgs/Vector3\\n# This represents a vector in free space. \\n# It is only meant to represent a direction. Therefore, it does not\\n# make sense to apply a translation to it (e.g., when applying a \\n# generic rigid transformation to a Vector3, tf2 will only apply the\\n# rotation). If you want your data to be translatable too, use the\\n# geometry_msgs/Point message instead.\\n\\nfloat64 x\\nfloat64 y\\nfloat64 z', 'tcp_nodelay': '0', 'topic': '/correction', 'type': 'geometry_msgs/Twist'}\n"
     ]
    },
    {
     "name": "stdout",
     "output_type": "stream",
     "text": [
      "not hybrid\n",
      "hybrid\n"
     ]
    },
    {
     "name": "stderr",
     "output_type": "stream",
     "text": [
      "[WARN] [1649115459.890782]: Could not process inbound connection: topic types do not match: [geometry_msgs/Twist] vs. [std_msgs/Float64MultiArray]{'callerid': '/ros_uli_wrapper', 'md5sum': '9f195f881246fdfa2798d1d3eebca84a', 'message_definition': '# This expresses velocity in free space broken into its linear and angular parts.\\nVector3  linear\\nVector3  angular\\n\\n================================================================================\\nMSG: geometry_msgs/Vector3\\n# This represents a vector in free space. \\n# It is only meant to represent a direction. Therefore, it does not\\n# make sense to apply a translation to it (e.g., when applying a \\n# generic rigid transformation to a Vector3, tf2 will only apply the\\n# rotation). If you want your data to be translatable too, use the\\n# geometry_msgs/Point message instead.\\n\\nfloat64 x\\nfloat64 y\\nfloat64 z', 'tcp_nodelay': '0', 'topic': '/correction', 'type': 'geometry_msgs/Twist'}\n",
      "[WARN] [1649115463.899350]: Could not process inbound connection: topic types do not match: [geometry_msgs/Twist] vs. [std_msgs/Float64MultiArray]{'callerid': '/ros_uli_wrapper', 'md5sum': '9f195f881246fdfa2798d1d3eebca84a', 'message_definition': '# This expresses velocity in free space broken into its linear and angular parts.\\nVector3  linear\\nVector3  angular\\n\\n================================================================================\\nMSG: geometry_msgs/Vector3\\n# This represents a vector in free space. \\n# It is only meant to represent a direction. Therefore, it does not\\n# make sense to apply a translation to it (e.g., when applying a \\n# generic rigid transformation to a Vector3, tf2 will only apply the\\n# rotation). If you want your data to be translatable too, use the\\n# geometry_msgs/Point message instead.\\n\\nfloat64 x\\nfloat64 y\\nfloat64 z', 'tcp_nodelay': '0', 'topic': '/correction', 'type': 'geometry_msgs/Twist'}\n"
     ]
    },
    {
     "name": "stdout",
     "output_type": "stream",
     "text": [
      "not hybrid\n"
     ]
    },
    {
     "name": "stderr",
     "output_type": "stream",
     "text": [
      "[WARN] [1649115471.908015]: Could not process inbound connection: topic types do not match: [geometry_msgs/Twist] vs. [std_msgs/Float64MultiArray]{'callerid': '/ros_uli_wrapper', 'md5sum': '9f195f881246fdfa2798d1d3eebca84a', 'message_definition': '# This expresses velocity in free space broken into its linear and angular parts.\\nVector3  linear\\nVector3  angular\\n\\n================================================================================\\nMSG: geometry_msgs/Vector3\\n# This represents a vector in free space. \\n# It is only meant to represent a direction. Therefore, it does not\\n# make sense to apply a translation to it (e.g., when applying a \\n# generic rigid transformation to a Vector3, tf2 will only apply the\\n# rotation). If you want your data to be translatable too, use the\\n# geometry_msgs/Point message instead.\\n\\nfloat64 x\\nfloat64 y\\nfloat64 z', 'tcp_nodelay': '0', 'topic': '/correction', 'type': 'geometry_msgs/Twist'}\n",
      "[WARN] [1649115487.924209]: Could not process inbound connection: topic types do not match: [geometry_msgs/Twist] vs. [std_msgs/Float64MultiArray]{'callerid': '/ros_uli_wrapper', 'md5sum': '9f195f881246fdfa2798d1d3eebca84a', 'message_definition': '# This expresses velocity in free space broken into its linear and angular parts.\\nVector3  linear\\nVector3  angular\\n\\n================================================================================\\nMSG: geometry_msgs/Vector3\\n# This represents a vector in free space. \\n# It is only meant to represent a direction. Therefore, it does not\\n# make sense to apply a translation to it (e.g., when applying a \\n# generic rigid transformation to a Vector3, tf2 will only apply the\\n# rotation). If you want your data to be translatable too, use the\\n# geometry_msgs/Point message instead.\\n\\nfloat64 x\\nfloat64 y\\nfloat64 z', 'tcp_nodelay': '0', 'topic': '/correction', 'type': 'geometry_msgs/Twist'}\n",
      "[WARN] [1649115519.959219]: Could not process inbound connection: topic types do not match: [geometry_msgs/Twist] vs. [std_msgs/Float64MultiArray]{'callerid': '/ros_uli_wrapper', 'md5sum': '9f195f881246fdfa2798d1d3eebca84a', 'message_definition': '# This expresses velocity in free space broken into its linear and angular parts.\\nVector3  linear\\nVector3  angular\\n\\n================================================================================\\nMSG: geometry_msgs/Vector3\\n# This represents a vector in free space. \\n# It is only meant to represent a direction. Therefore, it does not\\n# make sense to apply a translation to it (e.g., when applying a \\n# generic rigid transformation to a Vector3, tf2 will only apply the\\n# rotation). If you want your data to be translatable too, use the\\n# geometry_msgs/Point message instead.\\n\\nfloat64 x\\nfloat64 y\\nfloat64 z', 'tcp_nodelay': '0', 'topic': '/correction', 'type': 'geometry_msgs/Twist'}\n",
      "[WARN] [1649115551.991379]: Could not process inbound connection: topic types do not match: [geometry_msgs/Twist] vs. [std_msgs/Float64MultiArray]{'callerid': '/ros_uli_wrapper', 'md5sum': '9f195f881246fdfa2798d1d3eebca84a', 'message_definition': '# This expresses velocity in free space broken into its linear and angular parts.\\nVector3  linear\\nVector3  angular\\n\\n================================================================================\\nMSG: geometry_msgs/Vector3\\n# This represents a vector in free space. \\n# It is only meant to represent a direction. Therefore, it does not\\n# make sense to apply a translation to it (e.g., when applying a \\n# generic rigid transformation to a Vector3, tf2 will only apply the\\n# rotation). If you want your data to be translatable too, use the\\n# geometry_msgs/Point message instead.\\n\\nfloat64 x\\nfloat64 y\\nfloat64 z', 'tcp_nodelay': '0', 'topic': '/correction', 'type': 'geometry_msgs/Twist'}\n",
      "[WARN] [1649115584.024671]: Could not process inbound connection: topic types do not match: [geometry_msgs/Twist] vs. [std_msgs/Float64MultiArray]{'callerid': '/ros_uli_wrapper', 'md5sum': '9f195f881246fdfa2798d1d3eebca84a', 'message_definition': '# This expresses velocity in free space broken into its linear and angular parts.\\nVector3  linear\\nVector3  angular\\n\\n================================================================================\\nMSG: geometry_msgs/Vector3\\n# This represents a vector in free space. \\n# It is only meant to represent a direction. Therefore, it does not\\n# make sense to apply a translation to it (e.g., when applying a \\n# generic rigid transformation to a Vector3, tf2 will only apply the\\n# rotation). If you want your data to be translatable too, use the\\n# geometry_msgs/Point message instead.\\n\\nfloat64 x\\nfloat64 y\\nfloat64 z', 'tcp_nodelay': '0', 'topic': '/correction', 'type': 'geometry_msgs/Twist'}\n",
      "[WARN] [1649115616.057662]: Could not process inbound connection: topic types do not match: [geometry_msgs/Twist] vs. [std_msgs/Float64MultiArray]{'callerid': '/ros_uli_wrapper', 'md5sum': '9f195f881246fdfa2798d1d3eebca84a', 'message_definition': '# This expresses velocity in free space broken into its linear and angular parts.\\nVector3  linear\\nVector3  angular\\n\\n================================================================================\\nMSG: geometry_msgs/Vector3\\n# This represents a vector in free space. \\n# It is only meant to represent a direction. Therefore, it does not\\n# make sense to apply a translation to it (e.g., when applying a \\n# generic rigid transformation to a Vector3, tf2 will only apply the\\n# rotation). If you want your data to be translatable too, use the\\n# geometry_msgs/Point message instead.\\n\\nfloat64 x\\nfloat64 y\\nfloat64 z', 'tcp_nodelay': '0', 'topic': '/correction', 'type': 'geometry_msgs/Twist'}\n",
      "[WARN] [1649115648.090682]: Could not process inbound connection: topic types do not match: [geometry_msgs/Twist] vs. [std_msgs/Float64MultiArray]{'callerid': '/ros_uli_wrapper', 'md5sum': '9f195f881246fdfa2798d1d3eebca84a', 'message_definition': '# This expresses velocity in free space broken into its linear and angular parts.\\nVector3  linear\\nVector3  angular\\n\\n================================================================================\\nMSG: geometry_msgs/Vector3\\n# This represents a vector in free space. \\n# It is only meant to represent a direction. Therefore, it does not\\n# make sense to apply a translation to it (e.g., when applying a \\n# generic rigid transformation to a Vector3, tf2 will only apply the\\n# rotation). If you want your data to be translatable too, use the\\n# geometry_msgs/Point message instead.\\n\\nfloat64 x\\nfloat64 y\\nfloat64 z', 'tcp_nodelay': '0', 'topic': '/correction', 'type': 'geometry_msgs/Twist'}\n",
      "[WARN] [1649115680.126384]: Could not process inbound connection: topic types do not match: [geometry_msgs/Twist] vs. [std_msgs/Float64MultiArray]{'callerid': '/ros_uli_wrapper', 'md5sum': '9f195f881246fdfa2798d1d3eebca84a', 'message_definition': '# This expresses velocity in free space broken into its linear and angular parts.\\nVector3  linear\\nVector3  angular\\n\\n================================================================================\\nMSG: geometry_msgs/Vector3\\n# This represents a vector in free space. \\n# It is only meant to represent a direction. Therefore, it does not\\n# make sense to apply a translation to it (e.g., when applying a \\n# generic rigid transformation to a Vector3, tf2 will only apply the\\n# rotation). If you want your data to be translatable too, use the\\n# geometry_msgs/Point message instead.\\n\\nfloat64 x\\nfloat64 y\\nfloat64 z', 'tcp_nodelay': '0', 'topic': '/correction', 'type': 'geometry_msgs/Twist'}\n",
      "[WARN] [1649115712.156436]: Could not process inbound connection: topic types do not match: [geometry_msgs/Twist] vs. [std_msgs/Float64MultiArray]{'callerid': '/ros_uli_wrapper', 'md5sum': '9f195f881246fdfa2798d1d3eebca84a', 'message_definition': '# This expresses velocity in free space broken into its linear and angular parts.\\nVector3  linear\\nVector3  angular\\n\\n================================================================================\\nMSG: geometry_msgs/Vector3\\n# This represents a vector in free space. \\n# It is only meant to represent a direction. Therefore, it does not\\n# make sense to apply a translation to it (e.g., when applying a \\n# generic rigid transformation to a Vector3, tf2 will only apply the\\n# rotation). If you want your data to be translatable too, use the\\n# geometry_msgs/Point message instead.\\n\\nfloat64 x\\nfloat64 y\\nfloat64 z', 'tcp_nodelay': '0', 'topic': '/correction', 'type': 'geometry_msgs/Twist'}\n"
     ]
    },
    {
     "name": "stderr",
     "output_type": "stream",
     "text": [
      "[WARN] [1649115744.177473]: Could not process inbound connection: topic types do not match: [geometry_msgs/Twist] vs. [std_msgs/Float64MultiArray]{'callerid': '/ros_uli_wrapper', 'md5sum': '9f195f881246fdfa2798d1d3eebca84a', 'message_definition': '# This expresses velocity in free space broken into its linear and angular parts.\\nVector3  linear\\nVector3  angular\\n\\n================================================================================\\nMSG: geometry_msgs/Vector3\\n# This represents a vector in free space. \\n# It is only meant to represent a direction. Therefore, it does not\\n# make sense to apply a translation to it (e.g., when applying a \\n# generic rigid transformation to a Vector3, tf2 will only apply the\\n# rotation). If you want your data to be translatable too, use the\\n# geometry_msgs/Point message instead.\\n\\nfloat64 x\\nfloat64 y\\nfloat64 z', 'tcp_nodelay': '0', 'topic': '/correction', 'type': 'geometry_msgs/Twist'}\n",
      "[WARN] [1649115776.209370]: Could not process inbound connection: topic types do not match: [geometry_msgs/Twist] vs. [std_msgs/Float64MultiArray]{'callerid': '/ros_uli_wrapper', 'md5sum': '9f195f881246fdfa2798d1d3eebca84a', 'message_definition': '# This expresses velocity in free space broken into its linear and angular parts.\\nVector3  linear\\nVector3  angular\\n\\n================================================================================\\nMSG: geometry_msgs/Vector3\\n# This represents a vector in free space. \\n# It is only meant to represent a direction. Therefore, it does not\\n# make sense to apply a translation to it (e.g., when applying a \\n# generic rigid transformation to a Vector3, tf2 will only apply the\\n# rotation). If you want your data to be translatable too, use the\\n# geometry_msgs/Point message instead.\\n\\nfloat64 x\\nfloat64 y\\nfloat64 z', 'tcp_nodelay': '0', 'topic': '/correction', 'type': 'geometry_msgs/Twist'}\n",
      "[WARN] [1649115808.241440]: Could not process inbound connection: topic types do not match: [geometry_msgs/Twist] vs. [std_msgs/Float64MultiArray]{'callerid': '/ros_uli_wrapper', 'md5sum': '9f195f881246fdfa2798d1d3eebca84a', 'message_definition': '# This expresses velocity in free space broken into its linear and angular parts.\\nVector3  linear\\nVector3  angular\\n\\n================================================================================\\nMSG: geometry_msgs/Vector3\\n# This represents a vector in free space. \\n# It is only meant to represent a direction. Therefore, it does not\\n# make sense to apply a translation to it (e.g., when applying a \\n# generic rigid transformation to a Vector3, tf2 will only apply the\\n# rotation). If you want your data to be translatable too, use the\\n# geometry_msgs/Point message instead.\\n\\nfloat64 x\\nfloat64 y\\nfloat64 z', 'tcp_nodelay': '0', 'topic': '/correction', 'type': 'geometry_msgs/Twist'}\n"
     ]
    }
   ],
   "source": [
    "############################\n",
    "# Execute model            #\n",
    "############################\n",
    "\n",
    "rospy.init_node('executeROSfromState', anonymous=True)\n",
    "\n",
    "r_surf = np.array([-0.012998855441079739, 0.0038797442750289337, 0.6952085803714532, 0.7186800450266385])\n",
    "t_surf = np.array([0.7386642513098021, -0.14878377910695914, 0.05452037505308755])\n",
    "\n",
    "model.executeModel(learnedSegments=learnedSegments, R_surface = r_surf, t_surface = t_surf)\n",
    "\n"
   ]
  },
  {
   "cell_type": "code",
   "execution_count": null,
   "id": "threaded-vertical",
   "metadata": {},
   "outputs": [],
   "source": []
  }
 ],
 "metadata": {
  "kernelspec": {
   "display_name": "Python 3",
   "language": "python",
   "name": "python3"
  },
  "language_info": {
   "codemirror_mode": {
    "name": "ipython",
    "version": 3
   },
   "file_extension": ".py",
   "mimetype": "text/x-python",
   "name": "python",
   "nbconvert_exporter": "python",
   "pygments_lexer": "ipython3",
   "version": "3.8.10"
  }
 },
 "nbformat": 4,
 "nbformat_minor": 5
}
